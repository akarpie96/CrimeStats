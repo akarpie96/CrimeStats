{
 "cells": [
  {
   "cell_type": "markdown",
   "metadata": {},
   "source": [
    "### note: this file does imports multiple times to allow you to run individual cells.  Normally you would only do an import once."
   ]
  },
  {
   "cell_type": "markdown",
   "metadata": {},
   "source": [
    "\n",
    "# Opening a file\n",
    "\n",
    "    Opening a file uses the open(<path>, <mode>) function.  \n",
    "    Be aware that the <path> needs to be appropriate for the OS you are using.\n",
    "    \n",
    "    The modes that can be used in open() are:\n",
    "        \"r\" - Read - Default value. Opens a file for reading, error if the file does not exist\n",
    "\n",
    "        \"a\" - Append - Opens a file for appending, creates the file if it does not exist\n",
    "\n",
    "        \"w\" - Write - Opens a file for writing, creates the file if it does not exist\n",
    "\n",
    "        \"x\" - Create - Creates the specified file, returns an error if the file exist"
   ]
  },
  {
   "cell_type": "code",
   "execution_count": 8,
   "metadata": {},
   "outputs": [
    {
     "name": "stdout",
     "output_type": "stream",
     "text": [
      "<class '_io.TextIOWrapper'>\n",
      "<_io.TextIOWrapper name='salaries.csv' mode='r' encoding='cp1252'>\n",
      "this is some stuff in a file\n"
     ]
    }
   ],
   "source": [
    "# Store the file path associated with the file (note the backslash may be OS specific)\n",
    "file = 'salaries.csv'\n",
    "\n",
    "# Open the file in \"read\" mode ('r') and store the contents in the variable \"text\"\n",
    "with open(file, 'r') as text:\n",
    "    #since text is storing an \"object\" you will have to \"read\" the text to see it\n",
    "    print(type(text))\n",
    "    #trying to print text, shows you the object with some of the parameters\n",
    "    print(text)\n",
    "    \n",
    "    #to read the text store the text in a variable called lines\n",
    "    lines=text.read()\n",
    "    print(lines)"
   ]
  },
  {
   "cell_type": "markdown",
   "metadata": {},
   "source": [
    "# Import \n",
    "    Import allows you to bring code in from packages (or other python scripts) to use in your current code.\n",
    "    it can be used in the following ways\n",
    "    \n",
    "    import <package> as <alias>\n",
    "    import <python script> as <alias>\n",
    "    import <package>\n",
    "    import <python script>\n",
    "    from <package> import <function>\n",
    "    "
   ]
  },
  {
   "cell_type": "code",
   "execution_count": 13,
   "metadata": {},
   "outputs": [],
   "source": [
    "#example imports\n",
    "import random as rd\n",
    "from random import choice\n",
    "import os\n",
    "import string\n"
   ]
  },
  {
   "cell_type": "code",
   "execution_count": 11,
   "metadata": {},
   "outputs": [
    {
     "data": {
      "text/plain": [
       "'c'"
      ]
     },
     "execution_count": 11,
     "metadata": {},
     "output_type": "execute_result"
    }
   ],
   "source": [
    "#now you could call choice() 2 ways\n",
    "vlist=['a','b','c']\n",
    "rd.choice(vlist)\n",
    "choice(vlist)"
   ]
  },
  {
   "cell_type": "markdown",
   "metadata": {},
   "source": [
    "## string module\n",
    "   \n",
    "   ### ascii_letters is not a function, it is a constant ( a variable that you cannot change)\n",
    "       -returns all lowercase and uppercase letters\n",
    "   ### NOTE: there are many more function in the string module\n",
    "       "
   ]
  },
  {
   "cell_type": "code",
   "execution_count": 16,
   "metadata": {},
   "outputs": [
    {
     "name": "stdout",
     "output_type": "stream",
     "text": [
      "abcdefghijklmnopqrstuvwxyzABCDEFGHIJKLMNOPQRSTUVWXYZ\n"
     ]
    }
   ],
   "source": [
    "import string\n",
    "print(string.ascii_letters)"
   ]
  },
  {
   "cell_type": "markdown",
   "metadata": {},
   "source": [
    "## os module\n",
    "    -allows you to interact with your computers operating system\n",
    "    \n",
    "    -this module can be used to ensure that a path you pass in is formatted properly for your OS\n",
    "     os.path.join(<dir>,<dir>,<file>)"
   ]
  },
  {
   "cell_type": "code",
   "execution_count": 19,
   "metadata": {},
   "outputs": [
    {
     "name": "stdout",
     "output_type": "stream",
     "text": [
      "Resources\\file.txt\n"
     ]
    }
   ],
   "source": [
    "import os\n",
    "newPath=os.path.join('Resources','file.txt')\n",
    "print(newPath)"
   ]
  },
  {
   "cell_type": "markdown",
   "metadata": {},
   "source": [
    "## csv Module\n",
    "    used to work with a csv (comma seperated value) file in python.\n",
    "    \n",
    "    \n",
    "   ### Reading a csv file   \n",
    "        the open(<path>, 'r') is used to open a csv file, just like above\n",
    "            and then a \n",
    "            csv.reader(< object from open > , delimiter=<delimiter>) is used to read the data.\n",
    "                The \"object\" is the alias you used whey you opened the file. \n",
    "                The \"delimiter\" is the character used to seperate columns\n",
    "   ### Writing a csv file\n",
    "       You will still open a file, but you will use the 'w' (write) mode.\n",
    "       open(<newFilePath>, 'w') as file:\n",
    "       you can then create a csv.writer(<object>, delimiter=<delimiter>) \n",
    "           The csv.writer allows you to csv.writerow(<data>) to your file\n",
    "    "
   ]
  },
  {
   "cell_type": "code",
   "execution_count": 26,
   "metadata": {},
   "outputs": [
    {
     "name": "stdout",
     "output_type": "stream",
     "text": [
      "['this', 'is', 'some', 'stuff', 'in', 'a', 'file']\n"
     ]
    }
   ],
   "source": [
    "#Reading a csv file (using a space delimiter)\n",
    "\n",
    "import os\n",
    "import csv\n",
    "\n",
    "filePath=os.path.join('Salaries.csv')\n",
    "with open(filePath, 'r') as file:\n",
    "    csvReader=csv.reader(file, delimiter=' ')\n",
    "    #csvReader is storing the object created by csv.reader\n",
    "    #you will want to loop through the object to get your data.\n",
    "    \n",
    "    for row in csvReader:\n",
    "        print(row)\n",
    "        #Notice that row is a list!"
   ]
  },
  {
   "cell_type": "code",
   "execution_count": 31,
   "metadata": {},
   "outputs": [],
   "source": [
    "#writing a csv file\n",
    "\n",
    "import os\n",
    "import csv\n",
    "newFilePath=os.path.join('newCsv.csv')\n",
    "\n",
    "with open(newFilePath,'w') as newFile:\n",
    "    csvWriter=csv.writer(newFile, delimiter=',')\n",
    "    \n",
    "    csvWriter.writerow(['firstName','lastName'])\n",
    "    csvWriter.writerow(['Anthony','Taylor'])\n",
    "    "
   ]
  },
  {
   "cell_type": "markdown",
   "metadata": {},
   "source": [
    "## break\n",
    "    the break command will stop running whatever loop you are in"
   ]
  },
  {
   "cell_type": "code",
   "execution_count": 24,
   "metadata": {},
   "outputs": [
    {
     "name": "stdout",
     "output_type": "stream",
     "text": [
      "B\n",
      "r\n",
      "e\n",
      "a\n",
      "k\n",
      "s\n",
      " \n",
      "w\n",
      "i\n",
      "l\n",
      "l\n",
      " \n",
      "s\n",
      "t\n",
      "o\n"
     ]
    }
   ],
   "source": [
    "for letter in \"Breaks will stop this loop\":\n",
    "    if letter==\"p\":\n",
    "        break\n",
    "    else:\n",
    "        print(letter)"
   ]
  },
  {
   "cell_type": "markdown",
   "metadata": {},
   "source": [
    "## zip()\n",
    "    zip gives us the ability to combine a number of lists into a list of lists that will be in the same order as the inputs\n",
    "    "
   ]
  },
  {
   "cell_type": "code",
   "execution_count": 33,
   "metadata": {},
   "outputs": [
    {
     "name": "stdout",
     "output_type": "stream",
     "text": [
      "<zip object at 0x00000258DF84A348>\n"
     ]
    }
   ],
   "source": [
    "# Three Lists\n",
    "indexes = [1, 2, 3, 4]\n",
    "employees = [\"Michael\", \"Dwight\", \"Meredith\", \"Kelly\"]\n",
    "department = [\"Boss\", \"Sales\", \"Sales\", \"HR\"]\n",
    "\n",
    "#the output we want is \n",
    "# header row = indexes, employees, department\n",
    "# data row1=      1   ,  Michael , Boss\n",
    "# data row2=      2   ,  Dwight ,  Sales\n",
    "# and so on\n",
    "\n",
    "#zipping the 3 lists will create a list for each item like:\n",
    "# [1,'Michael','Boss']\n",
    "# [2,'Dwight','Meredith']\n",
    "# and so on\n",
    "\n",
    "#the output will be an object containing the lists\n",
    "\n",
    "roster=zip(indexes, employees, department)\n",
    "print(roster)"
   ]
  },
  {
   "cell_type": "code",
   "execution_count": 34,
   "metadata": {},
   "outputs": [],
   "source": [
    "# save the output file path\n",
    "output_file = os.path.join(\"output.csv\")\n",
    "\n",
    "# open the output file, create a header row, and then write the zipped object to the csv\n",
    "with open(output_file, \"w\") as datafile:\n",
    "    writer = csv.writer(datafile)\n",
    "     #our zipped object does not contain a header row so we will add that first\n",
    "    writer.writerow([\"Index\", \"Employee\", \"Department\"])\n",
    "    #this will loop through the zip object and write out each list to our file\n",
    "    writer.writerows(roster)"
   ]
  },
  {
   "cell_type": "markdown",
   "metadata": {},
   "source": [
    "# Functions\n",
    "    To create a function you simple have to use the word def and give it a name.\n",
    "    \n",
    "    def myFunction():\n",
    "        <stuff to do>"
   ]
  },
  {
   "cell_type": "code",
   "execution_count": 35,
   "metadata": {},
   "outputs": [],
   "source": [
    "def myHelloWorldFunction():\n",
    "    print(\"Hello World from my function\")"
   ]
  },
  {
   "cell_type": "code",
   "execution_count": 36,
   "metadata": {},
   "outputs": [
    {
     "name": "stdout",
     "output_type": "stream",
     "text": [
      "Hello World from my function\n"
     ]
    }
   ],
   "source": [
    "myHelloWorldFunction()"
   ]
  },
  {
   "cell_type": "code",
   "execution_count": 37,
   "metadata": {},
   "outputs": [],
   "source": [
    "def mynewFunction(name):\n",
    "    print(f'Hello {name}!  How are you?')"
   ]
  },
  {
   "cell_type": "code",
   "execution_count": 38,
   "metadata": {},
   "outputs": [
    {
     "name": "stdout",
     "output_type": "stream",
     "text": [
      "Hello Anthony!  How are you?\n"
     ]
    }
   ],
   "source": [
    "mynewFunction('Anthony')"
   ]
  },
  {
   "cell_type": "code",
   "execution_count": null,
   "metadata": {},
   "outputs": [],
   "source": []
  }
 ],
 "metadata": {
  "kernelspec": {
   "display_name": "Python 3",
   "language": "python",
   "name": "python3"
  },
  "language_info": {
   "codemirror_mode": {
    "name": "ipython",
    "version": 3
   },
   "file_extension": ".py",
   "mimetype": "text/x-python",
   "name": "python",
   "nbconvert_exporter": "python",
   "pygments_lexer": "ipython3",
   "version": "3.7.4"
  }
 },
 "nbformat": 4,
 "nbformat_minor": 2
}
