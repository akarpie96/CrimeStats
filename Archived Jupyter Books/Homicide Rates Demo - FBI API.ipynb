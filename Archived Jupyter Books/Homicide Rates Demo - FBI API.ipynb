{
 "cells": [
  {
   "cell_type": "code",
   "execution_count": 2,
   "metadata": {},
   "outputs": [],
   "source": [
    "#load dependencies\n",
    "import json\n",
    "import requests\n",
    "from matplotlib import pyplot as plt\n",
    "from scipy.stats import linregress\n",
    "from pprint import pprint\n",
    "import pandas as pd"
   ]
  },
  {
   "cell_type": "code",
   "execution_count": 6,
   "metadata": {},
   "outputs": [],
   "source": [
    "Income_df=pd.read_csv('Resources/Median Income.csv')"
   ]
  },
  {
   "cell_type": "code",
   "execution_count": 7,
   "metadata": {},
   "outputs": [
    {
     "name": "stdout",
     "output_type": "stream",
     "text": [
      "[74, 2, 19, 78, 21, 552, 54, 26, 14, 43, 1, 12, 452]\n"
     ]
    }
   ],
   "source": [
    "url = \"https://api.usa.gov/crime/fbi/sapi/api/nibrs/homicide/offense/states/\"\n",
    "api_key=\"JWNFNOUahji0RfLcPp5tibijU737BDnY4kKfYU9i\"\n",
    "states=['CT', 'AL', 'MT', \"MA\", \"DE\", \"MI\", \"MS\", \"ID\", \"AZ\", \"LA\", \"IL\", \"NE\", \"OH\"]\n",
    "homicide_count_2019=[]\n",
    "# Build query URL\n",
    "for state in states: \n",
    "    query_url = url + state + \"/count?API_KEY=\" + api_key\n",
    "    response=requests.get(query_url).json()\n",
    "    Murder_2019=response[\"data\"][21][\"value\"]\n",
    "    \n",
    "    homicide_count_2019.append(Murder_2019)\n",
    "print(homicide_count_2019)"
   ]
  },
  {
   "cell_type": "code",
   "execution_count": 8,
   "metadata": {},
   "outputs": [
    {
     "data": {
      "text/html": [
       "<div>\n",
       "<style scoped>\n",
       "    .dataframe tbody tr th:only-of-type {\n",
       "        vertical-align: middle;\n",
       "    }\n",
       "\n",
       "    .dataframe tbody tr th {\n",
       "        vertical-align: top;\n",
       "    }\n",
       "\n",
       "    .dataframe thead th {\n",
       "        text-align: right;\n",
       "    }\n",
       "</style>\n",
       "<table border=\"1\" class=\"dataframe\">\n",
       "  <thead>\n",
       "    <tr style=\"text-align: right;\">\n",
       "      <th></th>\n",
       "      <th>State</th>\n",
       "      <th>State (Abbreviation)</th>\n",
       "      <th>2019 Homicides (per FBI)</th>\n",
       "    </tr>\n",
       "  </thead>\n",
       "  <tbody>\n",
       "    <tr>\n",
       "      <th>0</th>\n",
       "      <td>Connecticut</td>\n",
       "      <td>CT</td>\n",
       "      <td>74</td>\n",
       "    </tr>\n",
       "    <tr>\n",
       "      <th>1</th>\n",
       "      <td>Alabama</td>\n",
       "      <td>AL</td>\n",
       "      <td>2</td>\n",
       "    </tr>\n",
       "    <tr>\n",
       "      <th>2</th>\n",
       "      <td>Montana</td>\n",
       "      <td>MT</td>\n",
       "      <td>19</td>\n",
       "    </tr>\n",
       "    <tr>\n",
       "      <th>3</th>\n",
       "      <td>Massachusetts</td>\n",
       "      <td>MA</td>\n",
       "      <td>78</td>\n",
       "    </tr>\n",
       "    <tr>\n",
       "      <th>4</th>\n",
       "      <td>Delaware</td>\n",
       "      <td>DE</td>\n",
       "      <td>21</td>\n",
       "    </tr>\n",
       "    <tr>\n",
       "      <th>5</th>\n",
       "      <td>Michigan</td>\n",
       "      <td>MI</td>\n",
       "      <td>552</td>\n",
       "    </tr>\n",
       "    <tr>\n",
       "      <th>6</th>\n",
       "      <td>Mississippi</td>\n",
       "      <td>MS</td>\n",
       "      <td>54</td>\n",
       "    </tr>\n",
       "    <tr>\n",
       "      <th>7</th>\n",
       "      <td>Idaho</td>\n",
       "      <td>ID</td>\n",
       "      <td>26</td>\n",
       "    </tr>\n",
       "    <tr>\n",
       "      <th>8</th>\n",
       "      <td>Arizona</td>\n",
       "      <td>AZ</td>\n",
       "      <td>14</td>\n",
       "    </tr>\n",
       "    <tr>\n",
       "      <th>9</th>\n",
       "      <td>Louisiana</td>\n",
       "      <td>LA</td>\n",
       "      <td>43</td>\n",
       "    </tr>\n",
       "    <tr>\n",
       "      <th>10</th>\n",
       "      <td>Illinois</td>\n",
       "      <td>IL</td>\n",
       "      <td>1</td>\n",
       "    </tr>\n",
       "    <tr>\n",
       "      <th>11</th>\n",
       "      <td>Nebraska</td>\n",
       "      <td>NE</td>\n",
       "      <td>12</td>\n",
       "    </tr>\n",
       "    <tr>\n",
       "      <th>12</th>\n",
       "      <td>Ohio</td>\n",
       "      <td>OH</td>\n",
       "      <td>452</td>\n",
       "    </tr>\n",
       "  </tbody>\n",
       "</table>\n",
       "</div>"
      ],
      "text/plain": [
       "            State State (Abbreviation)  2019 Homicides (per FBI)\n",
       "0     Connecticut                   CT                        74\n",
       "1         Alabama                   AL                         2\n",
       "2         Montana                   MT                        19\n",
       "3   Massachusetts                   MA                        78\n",
       "4        Delaware                   DE                        21\n",
       "5        Michigan                   MI                       552\n",
       "6     Mississippi                   MS                        54\n",
       "7           Idaho                   ID                        26\n",
       "8         Arizona                   AZ                        14\n",
       "9       Louisiana                   LA                        43\n",
       "10       Illinois                   IL                         1\n",
       "11       Nebraska                   NE                        12\n",
       "12           Ohio                   OH                       452"
      ]
     },
     "execution_count": 8,
     "metadata": {},
     "output_type": "execute_result"
    }
   ],
   "source": [
    "states_df = pd.DataFrame({\n",
    "    \"State (Abbreviation)\": states,\n",
    "    \"2019 Homicides (per FBI)\": homicide_count_2019\n",
    "})\n",
    "\n",
    "states_df[\"State\"]=[\"Connecticut\", \"Alabama\", \"Montana\", \"Massachusetts\",\"Delaware\", \"Michigan\",\"Mississippi\", \"Idaho\", \"Arizona\", \"Louisiana\", \"Illinois\", \"Nebraska\", \"Ohio\" ]\n",
    "\n",
    "states_df[[\"State\", \"State (Abbreviation)\", \"2019 Homicides (per FBI)\"]]"
   ]
  },
  {
   "cell_type": "code",
   "execution_count": null,
   "metadata": {},
   "outputs": [],
   "source": []
  },
  {
   "cell_type": "code",
   "execution_count": 9,
   "metadata": {},
   "outputs": [
    {
     "data": {
      "text/plain": [
       "<AxesSubplot:xlabel='State (Abbreviation)'>"
      ]
     },
     "execution_count": 9,
     "metadata": {},
     "output_type": "execute_result"
    },
    {
     "data": {
      "image/png": "[encoded data removed]",
      "text/plain": [
       "<Figure size 720x360 with 1 Axes>"
      ]
     },
     "metadata": {
      "needs_background": "light"
     },
     "output_type": "display_data"
    }
   ],
   "source": [
    "states_df.plot('State (Abbreviation)', '2019 Homicides (per FBI)', kind='bar', figsize=(10,5), rot=45, color=\"r\")"
   ]
  },
  {
   "cell_type": "code",
   "execution_count": 10,
   "metadata": {},
   "outputs": [
    {
     "data": {
      "text/html": [
       "<div>\n",
       "<style scoped>\n",
       "    .dataframe tbody tr th:only-of-type {\n",
       "        vertical-align: middle;\n",
       "    }\n",
       "\n",
       "    .dataframe tbody tr th {\n",
       "        vertical-align: top;\n",
       "    }\n",
       "\n",
       "    .dataframe thead th {\n",
       "        text-align: right;\n",
       "    }\n",
       "</style>\n",
       "<table border=\"1\" class=\"dataframe\">\n",
       "  <thead>\n",
       "    <tr style=\"text-align: right;\">\n",
       "      <th></th>\n",
       "      <th>State</th>\n",
       "      <th>State (Abbreviation)</th>\n",
       "      <th>2019 Homicides (per FBI)</th>\n",
       "      <th>Median Income (2019)</th>\n",
       "    </tr>\n",
       "  </thead>\n",
       "  <tbody>\n",
       "    <tr>\n",
       "      <th>6</th>\n",
       "      <td>Mississippi</td>\n",
       "      <td>MS</td>\n",
       "      <td>54</td>\n",
       "      <td>44,787</td>\n",
       "    </tr>\n",
       "    <tr>\n",
       "      <th>9</th>\n",
       "      <td>Louisiana</td>\n",
       "      <td>LA</td>\n",
       "      <td>43</td>\n",
       "      <td>51,707</td>\n",
       "    </tr>\n",
       "    <tr>\n",
       "      <th>1</th>\n",
       "      <td>Alabama</td>\n",
       "      <td>AL</td>\n",
       "      <td>2</td>\n",
       "      <td>56,200</td>\n",
       "    </tr>\n",
       "    <tr>\n",
       "      <th>2</th>\n",
       "      <td>Montana</td>\n",
       "      <td>MT</td>\n",
       "      <td>19</td>\n",
       "      <td>60,195</td>\n",
       "    </tr>\n",
       "    <tr>\n",
       "      <th>5</th>\n",
       "      <td>Michigan</td>\n",
       "      <td>MI</td>\n",
       "      <td>552</td>\n",
       "      <td>64,119</td>\n",
       "    </tr>\n",
       "    <tr>\n",
       "      <th>12</th>\n",
       "      <td>Ohio</td>\n",
       "      <td>OH</td>\n",
       "      <td>452</td>\n",
       "      <td>64,663</td>\n",
       "    </tr>\n",
       "    <tr>\n",
       "      <th>7</th>\n",
       "      <td>Idaho</td>\n",
       "      <td>ID</td>\n",
       "      <td>26</td>\n",
       "      <td>65,988</td>\n",
       "    </tr>\n",
       "    <tr>\n",
       "      <th>8</th>\n",
       "      <td>Arizona</td>\n",
       "      <td>AZ</td>\n",
       "      <td>14</td>\n",
       "      <td>70,674</td>\n",
       "    </tr>\n",
       "    <tr>\n",
       "      <th>11</th>\n",
       "      <td>Nebraska</td>\n",
       "      <td>NE</td>\n",
       "      <td>12</td>\n",
       "      <td>73,071</td>\n",
       "    </tr>\n",
       "    <tr>\n",
       "      <th>4</th>\n",
       "      <td>Delaware</td>\n",
       "      <td>DE</td>\n",
       "      <td>21</td>\n",
       "      <td>74,194</td>\n",
       "    </tr>\n",
       "    <tr>\n",
       "      <th>10</th>\n",
       "      <td>Illinois</td>\n",
       "      <td>IL</td>\n",
       "      <td>1</td>\n",
       "      <td>74,399</td>\n",
       "    </tr>\n",
       "    <tr>\n",
       "      <th>0</th>\n",
       "      <td>Connecticut</td>\n",
       "      <td>CT</td>\n",
       "      <td>74</td>\n",
       "      <td>87,291</td>\n",
       "    </tr>\n",
       "    <tr>\n",
       "      <th>3</th>\n",
       "      <td>Massachusetts</td>\n",
       "      <td>MA</td>\n",
       "      <td>78</td>\n",
       "      <td>87,707</td>\n",
       "    </tr>\n",
       "  </tbody>\n",
       "</table>\n",
       "</div>"
      ],
      "text/plain": [
       "            State State (Abbreviation)  2019 Homicides (per FBI)  \\\n",
       "6     Mississippi                   MS                        54   \n",
       "9       Louisiana                   LA                        43   \n",
       "1         Alabama                   AL                         2   \n",
       "2         Montana                   MT                        19   \n",
       "5        Michigan                   MI                       552   \n",
       "12           Ohio                   OH                       452   \n",
       "7           Idaho                   ID                        26   \n",
       "8         Arizona                   AZ                        14   \n",
       "11       Nebraska                   NE                        12   \n",
       "4        Delaware                   DE                        21   \n",
       "10       Illinois                   IL                         1   \n",
       "0     Connecticut                   CT                        74   \n",
       "3   Massachusetts                   MA                        78   \n",
       "\n",
       "   Median Income (2019)  \n",
       "6                44,787  \n",
       "9                51,707  \n",
       "1                56,200  \n",
       "2                60,195  \n",
       "5                64,119  \n",
       "12               64,663  \n",
       "7                65,988  \n",
       "8                70,674  \n",
       "11               73,071  \n",
       "4                74,194  \n",
       "10               74,399  \n",
       "0                87,291  \n",
       "3                87,707  "
      ]
     },
     "execution_count": 10,
     "metadata": {},
     "output_type": "execute_result"
    }
   ],
   "source": [
    "merge_df = pd.merge(states_df, Income_df, on=\"State\", how=\"left\")\n",
    "\n",
    "merge_df=merge_df[[\"State\", \"State (Abbreviation)\", \"2019 Homicides (per FBI)\", \"Median Income (2019)\"]]\n",
    "\n",
    "merge_df=merge_df.sort_values(by=['Median Income (2019)'], ascending=True)\n",
    "\n",
    "merge_df"
   ]
  },
  {
   "cell_type": "code",
   "execution_count": 11,
   "metadata": {},
   "outputs": [
    {
     "data": {
      "image/png": "[encoded data removed]",
      "text/plain": [
       "<Figure size 432x288 with 1 Axes>"
      ]
     },
     "metadata": {
      "needs_background": "light"
     },
     "output_type": "display_data"
    }
   ],
   "source": [
    "x_values = merge_df['Median Income (2019)']\n",
    "y_values = merge_df['2019 Homicides (per FBI)']\n",
    "plt.scatter(x_values,y_values, color=\"r\")\n",
    "plt.xlabel('Median Income')\n",
    "plt.ylabel('Homicides')\n",
    "plt.tight_layout()\n",
    "plt.xticks(rotation=30)\n",
    "plt.show()"
   ]
  },
  {
   "cell_type": "code",
   "execution_count": null,
   "metadata": {},
   "outputs": [],
   "source": []
  },
  {
   "cell_type": "code",
   "execution_count": null,
   "metadata": {},
   "outputs": [],
   "source": []
  }
 ],
 "metadata": {
  "kernelspec": {
   "display_name": "Python 3",
   "language": "python",
   "name": "python3"
  },
  "language_info": {
   "codemirror_mode": {
    "name": "ipython",
    "version": 3
   },
   "file_extension": ".py",
   "mimetype": "text/x-python",
   "name": "python",
   "nbconvert_exporter": "python",
   "pygments_lexer": "ipython3",
   "version": "3.8.5"
  }
 },
 "nbformat": 4,
 "nbformat_minor": 4
}
