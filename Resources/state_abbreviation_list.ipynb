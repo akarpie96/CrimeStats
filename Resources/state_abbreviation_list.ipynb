{
 "cells": [
  {
   "cell_type": "code",
   "execution_count": 17,
   "metadata": {},
   "outputs": [],
   "source": [
    "#arbitrary state abbreviation list\n",
    "abbrev_list = ['AL','AK','AZ','AR','CA','CO','CT','DE','FL','GA','HI',\n",
    "              'ID','IL','IN','IA','KS','KY','LA','ME','MD','MA','MA','MI',\n",
    "              'MN','MS','MO','MT','NE','NV','NH','NJ','NM','NY','NC','ND',\n",
    "              'OH','OK','OR','PA','RI','SC','SD','TN','TX','UT','VT',\n",
    "              'VA','WA','WV','WI','WY']"
   ]
  },
  {
   "cell_type": "code",
   "execution_count": 18,
   "metadata": {},
   "outputs": [],
   "source": [
    "#function to check that all 50 US states are accounted for\n",
    "def state_abbrev_check(list):\n",
    "    abbrev_count = []\n",
    "    count = 0\n",
    "    for item in abbrev_list: \n",
    "        if item not in abbrev_count: \n",
    "            count += 1\n",
    "            abbrev_count.append(item) \n",
    "    print(f'There are {count} states accounted for in list \"abbrev_list\"')"
   ]
  },
  {
   "cell_type": "code",
   "execution_count": 19,
   "metadata": {},
   "outputs": [
    {
     "name": "stdout",
     "output_type": "stream",
     "text": [
      "There are 50 states accounted for in list \"abbrev_list\"\n"
     ]
    }
   ],
   "source": [
    "#list 'abbrev_list' in function 'state_abbrev_check'\n",
    "state_abbrev_check(abbrev_list)"
   ]
  }
 ],
 "metadata": {
  "kernelspec": {
   "display_name": "Python 3",
   "language": "python",
   "name": "python3"
  },
  "language_info": {
   "codemirror_mode": {
    "name": "ipython",
    "version": 3
   },
   "file_extension": ".py",
   "mimetype": "text/x-python",
   "name": "python",
   "nbconvert_exporter": "python",
   "pygments_lexer": "ipython3",
   "version": "3.8.5"
  }
 },
 "nbformat": 4,
 "nbformat_minor": 4
}
