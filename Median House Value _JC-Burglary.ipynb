{
 "cells": [
  {
   "cell_type": "code",
   "execution_count": 1,
   "metadata": {},
   "outputs": [],
   "source": [
    "#%matplotlib notebook\n",
    "\n",
    "# load dependencies\n",
    "import json\n",
    "import requests\n",
    "from matplotlib import pyplot as plt\n",
    "from scipy.stats import linregress\n",
    "from pprint import pprint\n",
    "import pandas as pd\n",
    "import scipy.stats as st"
   ]
  },
  {
   "cell_type": "code",
   "execution_count": 2,
   "metadata": {
    "scrolled": true
   },
   "outputs": [
    {
     "data": {
      "text/html": [
       "<div>\n",
       "<style scoped>\n",
       "    .dataframe tbody tr th:only-of-type {\n",
       "        vertical-align: middle;\n",
       "    }\n",
       "\n",
       "    .dataframe tbody tr th {\n",
       "        vertical-align: top;\n",
       "    }\n",
       "\n",
       "    .dataframe thead th {\n",
       "        text-align: right;\n",
       "    }\n",
       "</style>\n",
       "<table border=\"1\" class=\"dataframe\">\n",
       "  <thead>\n",
       "    <tr style=\"text-align: right;\">\n",
       "      <th></th>\n",
       "      <th>State</th>\n",
       "      <th>Burglaries</th>\n",
       "      <th>Abbreviation</th>\n",
       "      <th>Average FICO Score</th>\n",
       "      <th>Median Home Value</th>\n",
       "      <th>Average Outstanding Mortgage Amount</th>\n",
       "      <th>Difference Between Value and Mortgage Balance</th>\n",
       "      <th></th>\n",
       "    </tr>\n",
       "  </thead>\n",
       "  <tbody>\n",
       "    <tr>\n",
       "      <th>0</th>\n",
       "      <td>California</td>\n",
       "      <td>152555</td>\n",
       "      <td>CA</td>\n",
       "      <td>708</td>\n",
       "      <td>550800</td>\n",
       "      <td>363891</td>\n",
       "      <td>186909</td>\n",
       "      <td></td>\n",
       "    </tr>\n",
       "    <tr>\n",
       "      <th>1</th>\n",
       "      <td>Texas</td>\n",
       "      <td>113902</td>\n",
       "      <td>TX</td>\n",
       "      <td>680</td>\n",
       "      <td>199900</td>\n",
       "      <td>177924</td>\n",
       "      <td>21976</td>\n",
       "      <td></td>\n",
       "    </tr>\n",
       "    <tr>\n",
       "      <th>2</th>\n",
       "      <td>Florida</td>\n",
       "      <td>63396</td>\n",
       "      <td>FL</td>\n",
       "      <td>694</td>\n",
       "      <td>237900</td>\n",
       "      <td>188223</td>\n",
       "      <td>49677</td>\n",
       "      <td></td>\n",
       "    </tr>\n",
       "    <tr>\n",
       "      <th>3</th>\n",
       "      <td>North Carolina</td>\n",
       "      <td>54447</td>\n",
       "      <td>NC</td>\n",
       "      <td>694</td>\n",
       "      <td>189900</td>\n",
       "      <td>162520</td>\n",
       "      <td>27380</td>\n",
       "      <td></td>\n",
       "    </tr>\n",
       "    <tr>\n",
       "      <th>4</th>\n",
       "      <td>Ohio</td>\n",
       "      <td>43894</td>\n",
       "      <td>OH</td>\n",
       "      <td>705</td>\n",
       "      <td>142600</td>\n",
       "      <td>122939</td>\n",
       "      <td>19661</td>\n",
       "      <td></td>\n",
       "    </tr>\n",
       "  </tbody>\n",
       "</table>\n",
       "</div>"
      ],
      "text/plain": [
       "            State  Burglaries Abbreviation  Average FICO Score  \\\n",
       "0      California      152555           CA                 708   \n",
       "1           Texas      113902           TX                 680   \n",
       "2         Florida       63396           FL                 694   \n",
       "3  North Carolina       54447           NC                 694   \n",
       "4            Ohio       43894           OH                 705   \n",
       "\n",
       "   Median Home Value  Average Outstanding Mortgage Amount  \\\n",
       "0             550800                               363891   \n",
       "1             199900                               177924   \n",
       "2             237900                               188223   \n",
       "3             189900                               162520   \n",
       "4             142600                               122939   \n",
       "\n",
       "   Difference Between Value and Mortgage Balance     \n",
       "0                                         186909     \n",
       "1                                          21976     \n",
       "2                                          49677     \n",
       "3                                          27380     \n",
       "4                                          19661     "
      ]
     },
     "execution_count": 2,
     "metadata": {},
     "output_type": "execute_result"
    }
   ],
   "source": [
    "# read in files\n",
    "home_value = pd.read_csv('Resources/median_house_value.csv')\n",
    "burglaries = pd.read_csv('Resources/burglaries_state.csv')\n",
    "\n",
    "# merge csv files\n",
    "house_df = pd.merge(burglaries, home_value, on='State', how='outer')\n",
    "\n",
    "# check the file has been read in\n",
    "house_df.head()"
   ]
  },
  {
   "cell_type": "code",
   "execution_count": 3,
   "metadata": {},
   "outputs": [
    {
     "data": {
      "text/html": [
       "<div>\n",
       "<style scoped>\n",
       "    .dataframe tbody tr th:only-of-type {\n",
       "        vertical-align: middle;\n",
       "    }\n",
       "\n",
       "    .dataframe tbody tr th {\n",
       "        vertical-align: top;\n",
       "    }\n",
       "\n",
       "    .dataframe thead th {\n",
       "        text-align: right;\n",
       "    }\n",
       "</style>\n",
       "<table border=\"1\" class=\"dataframe\">\n",
       "  <thead>\n",
       "    <tr style=\"text-align: right;\">\n",
       "      <th></th>\n",
       "      <th>State</th>\n",
       "      <th>Abbreviation</th>\n",
       "      <th>Median Home Value</th>\n",
       "      <th>Burglaries</th>\n",
       "    </tr>\n",
       "  </thead>\n",
       "  <tbody>\n",
       "    <tr>\n",
       "      <th>0</th>\n",
       "      <td>California</td>\n",
       "      <td>CA</td>\n",
       "      <td>550800</td>\n",
       "      <td>152555</td>\n",
       "    </tr>\n",
       "    <tr>\n",
       "      <th>1</th>\n",
       "      <td>Texas</td>\n",
       "      <td>TX</td>\n",
       "      <td>199900</td>\n",
       "      <td>113902</td>\n",
       "    </tr>\n",
       "    <tr>\n",
       "      <th>2</th>\n",
       "      <td>Florida</td>\n",
       "      <td>FL</td>\n",
       "      <td>237900</td>\n",
       "      <td>63396</td>\n",
       "    </tr>\n",
       "    <tr>\n",
       "      <th>3</th>\n",
       "      <td>North Carolina</td>\n",
       "      <td>NC</td>\n",
       "      <td>189900</td>\n",
       "      <td>54447</td>\n",
       "    </tr>\n",
       "    <tr>\n",
       "      <th>4</th>\n",
       "      <td>Ohio</td>\n",
       "      <td>OH</td>\n",
       "      <td>142600</td>\n",
       "      <td>43894</td>\n",
       "    </tr>\n",
       "  </tbody>\n",
       "</table>\n",
       "</div>"
      ],
      "text/plain": [
       "            State Abbreviation  Median Home Value  Burglaries\n",
       "0      California           CA             550800      152555\n",
       "1           Texas           TX             199900      113902\n",
       "2         Florida           FL             237900       63396\n",
       "3  North Carolina           NC             189900       54447\n",
       "4            Ohio           OH             142600       43894"
      ]
     },
     "execution_count": 3,
     "metadata": {},
     "output_type": "execute_result"
    }
   ],
   "source": [
    "# clean dataframe with only the relevant data\n",
    "house_burglaries = house_df[['State', 'Abbreviation', 'Median Home Value', 'Burglaries']]\n",
    "\n",
    "\n",
    "\n",
    "# check dataframe for any errors\n",
    "house_burglaries.head()"
   ]
  },
  {
   "cell_type": "code",
   "execution_count": 10,
   "metadata": {
    "scrolled": true
   },
   "outputs": [
    {
     "data": {
      "text/plain": [
       "Text(0.5, 1.0, 'Median Home Value vs Burglary Counts')"
      ]
     },
     "execution_count": 10,
     "metadata": {},
     "output_type": "execute_result"
    },
    {
     "data": {
      "image/png": "[encoded data removed]",
      "text/plain": [
       "<Figure size 432x288 with 1 Axes>"
      ]
     },
     "metadata": {
      "needs_background": "light"
     },
     "output_type": "display_data"
    }
   ],
   "source": [
    "# create scatter plot for median home value and total murders\n",
    "\n",
    "# create dataframe for just median home value and total murders\n",
    "house_b = house_burglaries[[\"State\",\"Median Home Value\", \"Burglaries\"]]\n",
    "house_b  = house_b.set_index(\"State\")\n",
    "\n",
    "bins = (0, 50000, 100000, 150000, 200000, 250000, 300000, 350000, 400000, 450000, 500000, 550000, 600000)\n",
    "\n",
    "# show plot\n",
    "house_b.plot(kind='scatter', x='Median Home Value', y='Burglaries', color='purple')\n",
    "plt.yticks()\n",
    "plt.title('Median Home Value vs Burglary Counts')\n",
    "\n",
    "# save fig as output\n",
    "#plt.savefig('Image Output/house_value_burglaries_scatter')\n"
   ]
  },
  {
   "cell_type": "code",
   "execution_count": 9,
   "metadata": {},
   "outputs": [
    {
     "name": "stdout",
     "output_type": "stream",
     "text": [
      "The r-squared is: 0.014373952814003221\n"
     ]
    },
    {
     "data": {
      "image/png": "[encoded data removed]",
      "text/plain": [
       "<Figure size 432x288 with 1 Axes>"
      ]
     },
     "metadata": {
      "needs_background": "light"
     },
     "output_type": "display_data"
    }
   ],
   "source": [
    "# plot lineregress\n",
    "x_values = house_burglaries['Median Home Value']\n",
    "y_values = house_burglaries['Burglaries']\n",
    "(slope, intercept, rvalue, pvalue, stderr) = linregress(x_values, y_values)\n",
    "regress_values = x_values * slope + intercept\n",
    "line_eq = \"y = \" + str(round(slope,2)) + \"x + \" + str(round(intercept,2))\n",
    "plt.scatter(x_values,y_values, color='purple')\n",
    "plt.plot(x_values,regress_values,\"r-\")\n",
    "#plt.annotate(line_eq,(500000,1300),fontsize=15,color=\"red\")\n",
    "plt.xlabel('Median Home Value')\n",
    "plt.ylabel('Total Burglaries')\n",
    "plt.title('Median Home Value vs Burglary Counts')\n",
    "\n",
    "# print r-valaue and show plot\n",
    "print(f\"The r-squared is: {rvalue**2}\")\n",
    "plt.show()\n",
    "\n",
    "# save fig as output\n",
    "\n",
    "#plt.savefig('Image Output/house_value_vs_murder_regress')"
   ]
  },
  {
   "cell_type": "code",
   "execution_count": 12,
   "metadata": {},
   "outputs": [],
   "source": [
    "# create variables for plots\n",
    "\n",
    "house_value = house_burglaries['Median Home Value']\n",
    "total_burglaries = house_burglaries['Burglaries']\n",
    "corr = st.pearsonr(house_value,total_burglaries)"
   ]
  },
  {
   "cell_type": "code",
   "execution_count": 13,
   "metadata": {},
   "outputs": [
    {
     "name": "stdout",
     "output_type": "stream",
     "text": [
      "The correlation coefficient between median home value and total murders is 0.12\n"
     ]
    }
   ],
   "source": [
    "print(f\"The correlation coefficient between median home value and total murders is {round( (corr[0]),2)}\")"
   ]
  },
  {
   "cell_type": "code",
   "execution_count": 16,
   "metadata": {},
   "outputs": [
    {
     "data": {
      "text/plain": [
       "Median Home Value  Burglaries           0.119891\n",
       "Burglaries         Median Home Value    0.119891\n",
       "Median Home Value  Median Home Value    1.000000\n",
       "Burglaries         Burglaries           1.000000\n",
       "dtype: float64"
      ]
     },
     "execution_count": 16,
     "metadata": {},
     "output_type": "execute_result"
    }
   ],
   "source": [
    "# BONUS: Generate the correlation matrix and find the strongest positive and negative correlations\n",
    "\n",
    "hm_corr = house_burglaries.corr()\n",
    "hm_corr.unstack().sort_values()"
   ]
  },
  {
   "cell_type": "code",
   "execution_count": null,
   "metadata": {},
   "outputs": [],
   "source": [
    "# correlation map for fun\n",
    "\n",
    "plt.matshow(house_df.corr())\n",
    "plt.show()"
   ]
  },
  {
   "cell_type": "code",
   "execution_count": null,
   "metadata": {},
   "outputs": [],
   "source": []
  }
 ],
 "metadata": {
  "kernelspec": {
   "display_name": "Python 3",
   "language": "python",
   "name": "python3"
  },
  "language_info": {
   "codemirror_mode": {
    "name": "ipython",
    "version": 3
   },
   "file_extension": ".py",
   "mimetype": "text/x-python",
   "name": "python",
   "nbconvert_exporter": "python",
   "pygments_lexer": "ipython3",
   "version": "3.8.5"
  }
 },
 "nbformat": 4,
 "nbformat_minor": 4
}
