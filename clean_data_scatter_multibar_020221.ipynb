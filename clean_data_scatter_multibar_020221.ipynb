{
 "cells": [
  {
   "cell_type": "code",
   "execution_count": 1,
   "metadata": {},
   "outputs": [],
   "source": [
    "#%matplotlib notebook\n",
    "\n",
    "#load dependencies\n",
    "import json\n",
    "import requests\n",
    "from matplotlib import pyplot as plt\n",
    "from scipy.stats import linregress\n",
    "from pprint import pprint\n",
    "import pandas as pd\n",
    "import scipy.stats as st\n",
    "import seaborn as sns"
   ]
  },
  {
   "cell_type": "code",
   "execution_count": 2,
   "metadata": {
    "scrolled": true
   },
   "outputs": [
    {
     "data": {
      "text/html": [
       "<div>\n",
       "<style scoped>\n",
       "    .dataframe tbody tr th:only-of-type {\n",
       "        vertical-align: middle;\n",
       "    }\n",
       "\n",
       "    .dataframe tbody tr th {\n",
       "        vertical-align: top;\n",
       "    }\n",
       "\n",
       "    .dataframe thead th {\n",
       "        text-align: right;\n",
       "    }\n",
       "</style>\n",
       "<table border=\"1\" class=\"dataframe\">\n",
       "  <thead>\n",
       "    <tr style=\"text-align: right;\">\n",
       "      <th></th>\n",
       "      <th>Unnamed: 0_x</th>\n",
       "      <th>State</th>\n",
       "      <th>Total Murders (2019)_x</th>\n",
       "      <th>2019 Population_x</th>\n",
       "      <th>Murders Per Capita/Homicide Rate</th>\n",
       "      <th>Unemployment Rate</th>\n",
       "      <th>Abbreviation</th>\n",
       "      <th>Average FICO Score</th>\n",
       "      <th>Median Home Value</th>\n",
       "      <th>Average Outstanding Mortgage Amount</th>\n",
       "      <th>Difference Between Value and Mortgage Balance</th>\n",
       "      <th></th>\n",
       "      <th>Unnamed: 0_y</th>\n",
       "      <th>Median Income (2019)</th>\n",
       "      <th>2019 Population_y</th>\n",
       "      <th>Population (2019)</th>\n",
       "      <th>Total Murders (2019)_y</th>\n",
       "      <th>Poverty Rate</th>\n",
       "    </tr>\n",
       "  </thead>\n",
       "  <tbody>\n",
       "    <tr>\n",
       "      <th>0</th>\n",
       "      <td>45.0</td>\n",
       "      <td>Vermont</td>\n",
       "      <td>11.0</td>\n",
       "      <td>623989.0</td>\n",
       "      <td>0.00002</td>\n",
       "      <td>2.3</td>\n",
       "      <td>VT</td>\n",
       "      <td>726.0</td>\n",
       "      <td>210600.0</td>\n",
       "      <td>147241.0</td>\n",
       "      <td>63359.0</td>\n",
       "      <td></td>\n",
       "      <td>45.0</td>\n",
       "      <td>74305.0</td>\n",
       "      <td>8535519.0</td>\n",
       "      <td>8535519.0</td>\n",
       "      <td>11.0</td>\n",
       "      <td>10.1</td>\n",
       "    </tr>\n",
       "    <tr>\n",
       "      <th>1</th>\n",
       "      <td>44.0</td>\n",
       "      <td>Utah</td>\n",
       "      <td>66.0</td>\n",
       "      <td>3205958.0</td>\n",
       "      <td>0.00002</td>\n",
       "      <td>2.3</td>\n",
       "      <td>UT</td>\n",
       "      <td>716.0</td>\n",
       "      <td>351100.0</td>\n",
       "      <td>216213.0</td>\n",
       "      <td>134887.0</td>\n",
       "      <td></td>\n",
       "      <td>44.0</td>\n",
       "      <td>84523.0</td>\n",
       "      <td>623989.0</td>\n",
       "      <td>623989.0</td>\n",
       "      <td>66.0</td>\n",
       "      <td>8.8</td>\n",
       "    </tr>\n",
       "    <tr>\n",
       "      <th>2</th>\n",
       "      <td>40.0</td>\n",
       "      <td>South Carolina</td>\n",
       "      <td>445.0</td>\n",
       "      <td>5148714.0</td>\n",
       "      <td>0.00009</td>\n",
       "      <td>2.3</td>\n",
       "      <td>SC</td>\n",
       "      <td>681.0</td>\n",
       "      <td>170700.0</td>\n",
       "      <td>160059.0</td>\n",
       "      <td>10641.0</td>\n",
       "      <td></td>\n",
       "      <td>40.0</td>\n",
       "      <td>62028.0</td>\n",
       "      <td>884659.0</td>\n",
       "      <td>884659.0</td>\n",
       "      <td>445.0</td>\n",
       "      <td>13.9</td>\n",
       "    </tr>\n",
       "    <tr>\n",
       "      <th>3</th>\n",
       "      <td>34.0</td>\n",
       "      <td>North Dakota</td>\n",
       "      <td>26.0</td>\n",
       "      <td>762062.0</td>\n",
       "      <td>0.00003</td>\n",
       "      <td>2.4</td>\n",
       "      <td>ND</td>\n",
       "      <td>727.0</td>\n",
       "      <td>210000.0</td>\n",
       "      <td>162774.0</td>\n",
       "      <td>47226.0</td>\n",
       "      <td>NaN</td>\n",
       "      <td>34.0</td>\n",
       "      <td>70031.0</td>\n",
       "      <td>11689100.0</td>\n",
       "      <td>11689100.0</td>\n",
       "      <td>26.0</td>\n",
       "      <td>10.5</td>\n",
       "    </tr>\n",
       "    <tr>\n",
       "      <th>4</th>\n",
       "      <td>5.0</td>\n",
       "      <td>Colorado</td>\n",
       "      <td>209.0</td>\n",
       "      <td>5758736.0</td>\n",
       "      <td>0.00004</td>\n",
       "      <td>2.5</td>\n",
       "      <td>CO</td>\n",
       "      <td>718.0</td>\n",
       "      <td>381300.0</td>\n",
       "      <td>259113.0</td>\n",
       "      <td>122187.0</td>\n",
       "      <td></td>\n",
       "      <td>5.0</td>\n",
       "      <td>72499.0</td>\n",
       "      <td>3565287.0</td>\n",
       "      <td>3565287.0</td>\n",
       "      <td>209.0</td>\n",
       "      <td>9.4</td>\n",
       "    </tr>\n",
       "  </tbody>\n",
       "</table>\n",
       "</div>"
      ],
      "text/plain": [
       "   Unnamed: 0_x           State  Total Murders (2019)_x  2019 Population_x  \\\n",
       "0          45.0         Vermont                    11.0           623989.0   \n",
       "1          44.0            Utah                    66.0          3205958.0   \n",
       "2          40.0  South Carolina                   445.0          5148714.0   \n",
       "3          34.0    North Dakota                    26.0           762062.0   \n",
       "4           5.0        Colorado                   209.0          5758736.0   \n",
       "\n",
       "   Murders Per Capita/Homicide Rate  Unemployment Rate Abbreviation  \\\n",
       "0                           0.00002                2.3           VT   \n",
       "1                           0.00002                2.3           UT   \n",
       "2                           0.00009                2.3           SC   \n",
       "3                           0.00003                2.4           ND   \n",
       "4                           0.00004                2.5           CO   \n",
       "\n",
       "   Average FICO Score  Median Home Value  Average Outstanding Mortgage Amount  \\\n",
       "0               726.0           210600.0                             147241.0   \n",
       "1               716.0           351100.0                             216213.0   \n",
       "2               681.0           170700.0                             160059.0   \n",
       "3               727.0           210000.0                             162774.0   \n",
       "4               718.0           381300.0                             259113.0   \n",
       "\n",
       "   Difference Between Value and Mortgage Balance       Unnamed: 0_y  \\\n",
       "0                                        63359.0               45.0   \n",
       "1                                       134887.0               44.0   \n",
       "2                                        10641.0               40.0   \n",
       "3                                        47226.0  NaN          34.0   \n",
       "4                                       122187.0                5.0   \n",
       "\n",
       "   Median Income (2019)  2019 Population_y  Population (2019)  \\\n",
       "0               74305.0          8535519.0          8535519.0   \n",
       "1               84523.0           623989.0           623989.0   \n",
       "2               62028.0           884659.0           884659.0   \n",
       "3               70031.0         11689100.0         11689100.0   \n",
       "4               72499.0          3565287.0          3565287.0   \n",
       "\n",
       "   Total Murders (2019)_y  Poverty Rate  \n",
       "0                    11.0          10.1  \n",
       "1                    66.0           8.8  \n",
       "2                   445.0          13.9  \n",
       "3                    26.0          10.5  \n",
       "4                   209.0           9.4  "
      ]
     },
     "execution_count": 2,
     "metadata": {},
     "output_type": "execute_result"
    }
   ],
   "source": [
    "# read in files\n",
    "data = pd.read_csv('Clean_Data_Output/Clean_Data_Final.csv')\n",
    "home_values = pd.read_csv('Resources/median_house_value.csv')\n",
    "income = pd.read_csv('Clean_Data_Output/Data.csv')\n",
    "poverty = pd.read_csv('Resources/PovertyReport.csv')\n",
    "\n",
    "# merge csv files\n",
    "property_df = pd.merge(data, home_values, on='State', how='outer')\n",
    "property_df = pd.merge(property_df, income, on='State', how='outer')\n",
    "property_df = pd.merge(property_df, poverty, on='State', how='outer')\n",
    "\n",
    "# check the file has been read in\n",
    "property_df.head()"
   ]
  },
  {
   "cell_type": "code",
   "execution_count": 3,
   "metadata": {
    "scrolled": false
   },
   "outputs": [
    {
     "data": {
      "text/html": [
       "<div>\n",
       "<style scoped>\n",
       "    .dataframe tbody tr th:only-of-type {\n",
       "        vertical-align: middle;\n",
       "    }\n",
       "\n",
       "    .dataframe tbody tr th {\n",
       "        vertical-align: top;\n",
       "    }\n",
       "\n",
       "    .dataframe thead th {\n",
       "        text-align: right;\n",
       "    }\n",
       "</style>\n",
       "<table border=\"1\" class=\"dataframe\">\n",
       "  <thead>\n",
       "    <tr style=\"text-align: right;\">\n",
       "      <th></th>\n",
       "      <th>State</th>\n",
       "      <th>Total Population</th>\n",
       "      <th>Median Income</th>\n",
       "      <th>Median Home Value</th>\n",
       "      <th>Unemployment Rate</th>\n",
       "      <th>Poverty Rate</th>\n",
       "      <th>Total Murders</th>\n",
       "      <th>Homicide Rate</th>\n",
       "    </tr>\n",
       "  </thead>\n",
       "  <tbody>\n",
       "    <tr>\n",
       "      <th>48</th>\n",
       "      <td>District of Columbia</td>\n",
       "      <td>705749.0</td>\n",
       "      <td>93111.0</td>\n",
       "      <td>567800.0</td>\n",
       "      <td>5.3</td>\n",
       "      <td>14.1</td>\n",
       "      <td>166.0</td>\n",
       "      <td>0.00024</td>\n",
       "    </tr>\n",
       "    <tr>\n",
       "      <th>46</th>\n",
       "      <td>Louisiana</td>\n",
       "      <td>4648794.0</td>\n",
       "      <td>51707.0</td>\n",
       "      <td>147600.0</td>\n",
       "      <td>4.9</td>\n",
       "      <td>18.8</td>\n",
       "      <td>522.0</td>\n",
       "      <td>0.00011</td>\n",
       "    </tr>\n",
       "    <tr>\n",
       "      <th>50</th>\n",
       "      <td>Alaska</td>\n",
       "      <td>731545.0</td>\n",
       "      <td>78394.0</td>\n",
       "      <td>326000.0</td>\n",
       "      <td>6.0</td>\n",
       "      <td>10.2</td>\n",
       "      <td>69.0</td>\n",
       "      <td>0.00009</td>\n",
       "    </tr>\n",
       "    <tr>\n",
       "      <th>28</th>\n",
       "      <td>Maryland</td>\n",
       "      <td>6045680.0</td>\n",
       "      <td>95572.0</td>\n",
       "      <td>290500.0</td>\n",
       "      <td>3.5</td>\n",
       "      <td>9.1</td>\n",
       "      <td>551.0</td>\n",
       "      <td>0.00009</td>\n",
       "    </tr>\n",
       "    <tr>\n",
       "      <th>21</th>\n",
       "      <td>Missouri</td>\n",
       "      <td>6137428.0</td>\n",
       "      <td>60597.0</td>\n",
       "      <td>163700.0</td>\n",
       "      <td>3.3</td>\n",
       "      <td>12.9</td>\n",
       "      <td>566.0</td>\n",
       "      <td>0.00009</td>\n",
       "    </tr>\n",
       "  </tbody>\n",
       "</table>\n",
       "</div>"
      ],
      "text/plain": [
       "                   State  Total Population  Median Income  Median Home Value  \\\n",
       "48  District of Columbia          705749.0        93111.0           567800.0   \n",
       "46             Louisiana         4648794.0        51707.0           147600.0   \n",
       "50                Alaska          731545.0        78394.0           326000.0   \n",
       "28              Maryland         6045680.0        95572.0           290500.0   \n",
       "21              Missouri         6137428.0        60597.0           163700.0   \n",
       "\n",
       "    Unemployment Rate  Poverty Rate  Total Murders  Homicide Rate  \n",
       "48                5.3          14.1          166.0        0.00024  \n",
       "46                4.9          18.8          522.0        0.00011  \n",
       "50                6.0          10.2           69.0        0.00009  \n",
       "28                3.5           9.1          551.0        0.00009  \n",
       "21                3.3          12.9          566.0        0.00009  "
      ]
     },
     "execution_count": 3,
     "metadata": {},
     "output_type": "execute_result"
    }
   ],
   "source": [
    "# clean dataframe with only the relevant data\n",
    "data_df = property_df[['State', '2019 Population_x', 'Median Income (2019)', 'Median Home Value','Unemployment Rate', 'Poverty Rate',\n",
    "                        'Total Murders (2019)_y', 'Murders Per Capita/Homicide Rate']]\n",
    "\n",
    "data_df = data_df.rename(columns={'2019 Population_x':'Total Population', 'Median Income (2019)':'Median Income', \n",
    "                                 'Total Murders (2019)_y':'Total Murders', 'Murders Per Capita/Homicide Rate':'Homicide Rate'})\n",
    "# drop na\n",
    "data_df = data_df.dropna(how='any')\n",
    "\n",
    "# sort by highest homicide rate descending\n",
    "data_df = data_df.sort_values(by='Homicide Rate', ascending=False)\n",
    "\n",
    "# check for errors\n",
    "data_df.head()"
   ]
  },
  {
   "cell_type": "code",
   "execution_count": 4,
   "metadata": {
    "scrolled": true
   },
   "outputs": [
    {
     "name": "stdout",
     "output_type": "stream",
     "text": [
      "The correlation coefficient between the two factors is 0.049\n",
      "The r-squared is: 0.0023795858008970167\n"
     ]
    },
    {
     "data": {
      "image/png": "[encoded data removed]",
      "text/plain": [
       "<Figure size 432x288 with 1 Axes>"
      ]
     },
     "metadata": {
      "needs_background": "light"
     },
     "output_type": "display_data"
    },
    {
     "data": {
      "text/plain": [
       "<Figure size 432x288 with 0 Axes>"
      ]
     },
     "metadata": {},
     "output_type": "display_data"
    }
   ],
   "source": [
    "# create scatter plot for Median Income and Homicide Rate\n",
    "\n",
    "# plot lineregress\n",
    "x_values = data_df['Median Income']\n",
    "y_values = data_df['Homicide Rate']\n",
    "(slope, intercept, rvalue, pvalue, stderr) = linregress(x_values, y_values)\n",
    "regress_values = x_values * slope + intercept\n",
    "line_eq = \"y = \" + str(round(slope,2)) + \"x + \" + str(round(intercept,2))\n",
    "plt.scatter(x_values,y_values, color='green')\n",
    "plt.plot(x_values,regress_values,\"r-\")\n",
    "#plt.annotate(line_eq,(500000,1300),fontsize=15,color=\"red\")\n",
    "plt.xlabel('Median Income')\n",
    "plt.ylabel('Homicide Rate')\n",
    "plt.title('Median Income vs Homicide Rate')\n",
    "\n",
    "# print r-valaue and show plot\n",
    "corr = st.pearsonr(x_values,y_values)\n",
    "\n",
    "print(f\"The correlation coefficient between the two factors is {round( (corr[0]),3)}\")\n",
    "print(f\"The r-squared is: {rvalue**2}\")\n",
    "plt.show()\n",
    "\n",
    "# save fig as output\n",
    "plt.savefig('Image Output/median_income_cd')\n"
   ]
  },
  {
   "cell_type": "code",
   "execution_count": 5,
   "metadata": {
    "scrolled": true
   },
   "outputs": [
    {
     "name": "stdout",
     "output_type": "stream",
     "text": [
      "The correlation coefficient between the two factors is 0.143\n",
      "The r-squared is: 0.020438602664923856\n"
     ]
    },
    {
     "data": {
      "image/png": "[encoded data removed]",
      "text/plain": [
       "<Figure size 432x288 with 1 Axes>"
      ]
     },
     "metadata": {
      "needs_background": "light"
     },
     "output_type": "display_data"
    },
    {
     "data": {
      "text/plain": [
       "<Figure size 432x288 with 0 Axes>"
      ]
     },
     "metadata": {},
     "output_type": "display_data"
    }
   ],
   "source": [
    "# create scatter plot for Median Home Value and Homicide Rate\n",
    "\n",
    "# plot lineregress\n",
    "x_values = data_df['Median Home Value']\n",
    "y_values = data_df['Homicide Rate']\n",
    "(slope, intercept, rvalue, pvalue, stderr) = linregress(x_values, y_values)\n",
    "regress_values = x_values * slope + intercept\n",
    "line_eq = \"y = \" + str(round(slope,2)) + \"x + \" + str(round(intercept,2))\n",
    "plt.scatter(x_values,y_values, color='blue')\n",
    "plt.plot(x_values,regress_values,\"r-\")\n",
    "#plt.annotate(line_eq,(500000,1300),fontsize=15,color=\"red\")\n",
    "plt.xlabel('Median Home Value')\n",
    "plt.ylabel('Homicide Rate')\n",
    "plt.title('Median Home Value vs Murder Rate')\n",
    "\n",
    "# print r-valaue and correlation\n",
    "corr = st.pearsonr(x_values,y_values)\n",
    "\n",
    "print(f\"The correlation coefficient between the two factors is {round( (corr[0]),3)}\")\n",
    "print(f\"The r-squared is: {rvalue**2}\")\n",
    "\n",
    "# show plot\n",
    "plt.show()\n",
    "\n",
    "# save fig as output\n",
    "plt.savefig('Image Output/home_value_cd')"
   ]
  },
  {
   "cell_type": "code",
   "execution_count": 6,
   "metadata": {},
   "outputs": [
    {
     "name": "stdout",
     "output_type": "stream",
     "text": [
      "The correlation coefficient between the two factors is 0.388\n",
      "The r-squared is: 0.1508169573224734\n"
     ]
    },
    {
     "data": {
      "image/png": "[encoded data removed]",
      "text/plain": [
       "<Figure size 432x288 with 1 Axes>"
      ]
     },
     "metadata": {
      "needs_background": "light"
     },
     "output_type": "display_data"
    }
   ],
   "source": [
    "# create scatter plot for Poverty Rate and Homicide Rate\n",
    "\n",
    "# plot lineregress\n",
    "x_values = data_df['Poverty Rate']\n",
    "y_values = data_df['Homicide Rate']\n",
    "(slope, intercept, rvalue, pvalue, stderr) = linregress(x_values, y_values)\n",
    "regress_values = x_values * slope + intercept\n",
    "line_eq = \"y = \" + str(round(slope,2)) + \"x + \" + str(round(intercept,2))\n",
    "plt.scatter(x_values,y_values, color='purple')\n",
    "plt.plot(x_values,regress_values,\"r-\")\n",
    "#plt.annotate(line_eq,(500000,1300),fontsize=15,color=\"red\")\n",
    "plt.xlabel('Poverty Rate')\n",
    "plt.ylabel('Homicide Rate')\n",
    "plt.title('Poverty Rate vs Murder Rate')\n",
    "\n",
    "# print r-valaue and correlation\n",
    "corr = st.pearsonr(x_values,y_values)\n",
    "\n",
    "print(f\"The correlation coefficient between the two factors is {round( (corr[0]),3)}\")\n",
    "print(f\"The r-squared is: {rvalue**2}\")\n",
    "\n",
    "# show plot\n",
    "plt.show()\n",
    "\n",
    "# save fig as output\n",
    "#plt.savefig('Image Output/home_value_cd')"
   ]
  },
  {
   "cell_type": "code",
   "execution_count": 7,
   "metadata": {},
   "outputs": [
    {
     "name": "stdout",
     "output_type": "stream",
     "text": [
      "The correlation coefficient between the two factors is 0.502\n",
      "The r-squared is: 0.25247547300263684\n"
     ]
    },
    {
     "data": {
      "image/png": "[encoded data removed]",
      "text/plain": [
       "<Figure size 432x288 with 1 Axes>"
      ]
     },
     "metadata": {
      "needs_background": "light"
     },
     "output_type": "display_data"
    }
   ],
   "source": [
    "# create scatter plot for unemployment rate and murder rate\n",
    "\n",
    "# plot lineregress\n",
    "x_values = data_df['Unemployment Rate']\n",
    "y_values = data_df['Homicide Rate']\n",
    "(slope, intercept, rvalue, pvalue, stderr) = linregress(x_values, y_values)\n",
    "regress_values = x_values * slope + intercept\n",
    "line_eq = \"y = \" + str(round(slope,2)) + \"x + \" + str(round(intercept,2))\n",
    "plt.scatter(x_values,y_values, color='orange')\n",
    "plt.plot(x_values,regress_values,\"r-\")\n",
    "#plt.annotate(line_eq,(500000,1300),fontsize=15,color=\"red\")\n",
    "plt.xlabel('Unemployment Rate')\n",
    "plt.ylabel('Homicide Rate')\n",
    "plt.title('Unemployment Rate vs Homicide Rate')\n",
    "\n",
    "# print r-valaue and show plot\n",
    "unemployment = data_df['Unemployment Rate']\n",
    "homicide_rate = data_df['Homicide Rate']\n",
    "corr = st.pearsonr(unemployment, homicide_rate)\n",
    "\n",
    "print(f\"The correlation coefficient between the two factors is {round( (corr[0]),3)}\")\n",
    "print(f\"The r-squared is: {rvalue**2}\")\n",
    "\n",
    "# show plot\n",
    "plt.show()\n",
    "\n",
    "# save fig as output\n",
    "#plt.savefig('Image Output/unemployment_rate_cd')\n"
   ]
  },
  {
   "cell_type": "code",
   "execution_count": 8,
   "metadata": {},
   "outputs": [],
   "source": [
    "#Create a state abbreviations list for Multi-Bar Graphs\n",
    "abbrev_list = ['AL','AK','AZ','AR','CA','CO','CT','DE','DC','FL','GA','HI',\n",
    "              'ID','IL','IN','IA','KS','KY','LA','ME','MD','MA','MI',\n",
    "              'MN','MS','MO','MT','NE','NV','NH','NJ','NM','NY','NC','ND',\n",
    "              'OH','OK','OR','PA','RI','SC','SD','TN','TX','UT','VT',\n",
    "              'VA','WA','WV','WI','WY']"
   ]
  },
  {
   "cell_type": "code",
   "execution_count": 9,
   "metadata": {},
   "outputs": [
    {
     "data": {
      "text/html": [
       "<div>\n",
       "<style scoped>\n",
       "    .dataframe tbody tr th:only-of-type {\n",
       "        vertical-align: middle;\n",
       "    }\n",
       "\n",
       "    .dataframe tbody tr th {\n",
       "        vertical-align: top;\n",
       "    }\n",
       "\n",
       "    .dataframe thead th {\n",
       "        text-align: right;\n",
       "    }\n",
       "</style>\n",
       "<table border=\"1\" class=\"dataframe\">\n",
       "  <thead>\n",
       "    <tr style=\"text-align: right;\">\n",
       "      <th></th>\n",
       "      <th>State Abbreviations</th>\n",
       "      <th>Median Income</th>\n",
       "      <th>Total Murders</th>\n",
       "    </tr>\n",
       "  </thead>\n",
       "  <tbody>\n",
       "    <tr>\n",
       "      <th>28</th>\n",
       "      <td>MD</td>\n",
       "      <td>95572.0</td>\n",
       "      <td>551.0</td>\n",
       "    </tr>\n",
       "    <tr>\n",
       "      <th>48</th>\n",
       "      <td>DC</td>\n",
       "      <td>93111.0</td>\n",
       "      <td>166.0</td>\n",
       "    </tr>\n",
       "    <tr>\n",
       "      <th>7</th>\n",
       "      <td>HI</td>\n",
       "      <td>88006.0</td>\n",
       "      <td>32.0</td>\n",
       "    </tr>\n",
       "    <tr>\n",
       "      <th>27</th>\n",
       "      <td>NJ</td>\n",
       "      <td>87726.0</td>\n",
       "      <td>262.0</td>\n",
       "    </tr>\n",
       "    <tr>\n",
       "      <th>10</th>\n",
       "      <td>MA</td>\n",
       "      <td>87707.0</td>\n",
       "      <td>146.0</td>\n",
       "    </tr>\n",
       "  </tbody>\n",
       "</table>\n",
       "</div>"
      ],
      "text/plain": [
       "   State Abbreviations  Median Income  Total Murders\n",
       "28                  MD        95572.0          551.0\n",
       "48                  DC        93111.0          166.0\n",
       "7                   HI        88006.0           32.0\n",
       "27                  NJ        87726.0          262.0\n",
       "10                  MA        87707.0          146.0"
      ]
     },
     "execution_count": 9,
     "metadata": {},
     "output_type": "execute_result"
    }
   ],
   "source": [
    "#create a dataframe for Top Five Median Income\n",
    "medincome_multibar_df = data_df[['State','Median Income','Total Murders']]\n",
    "medincome_multibar_df = medincome_multibar_df.sort_values('State')\n",
    "medincome_multibar_df['State Abbreviations'] = abbrev_list\n",
    "medincome_multibar_df = medincome_multibar_df[['State Abbreviations', 'Median Income', 'Total Murders']]\n",
    "medincome_multibar_topfive_df = medincome_multibar_df.sort_values('Median Income',ascending=False).head()\n",
    "medincome_multibar_topfive_df"
   ]
  },
  {
   "cell_type": "code",
   "execution_count": 10,
   "metadata": {
    "scrolled": true
   },
   "outputs": [
    {
     "data": {
      "image/png": "[encoded data removed]",
      "text/plain": [
       "<Figure size 1440x360 with 2 Axes>"
      ]
     },
     "metadata": {
      "needs_background": "light"
     },
     "output_type": "display_data"
    },
    {
     "data": {
      "text/plain": [
       "<Figure size 432x288 with 0 Axes>"
      ]
     },
     "metadata": {},
     "output_type": "display_data"
    }
   ],
   "source": [
    "#create and save the graph\n",
    "medincome_multi_topfive_plot = medincome_multibar_topfive_df.plot(kind=\"bar\", secondary_y = ['Median Income'], figsize=(20,5))\n",
    "\n",
    "# PandasPlot.set_xticklabels() can be used to set the tick labels\n",
    "medincome_multi_topfive_plot.set_xticklabels(medincome_multibar_topfive_df['State Abbreviations'], rotation=45)\n",
    "plt.title('Median Income vs Total Murders (Top 5 States)')\n",
    "plt.ylim([0, 120000])\n",
    "plt.show()\n",
    "plt.tight_layout()\n",
    "plt.savefig(\"Image Output/Multibar_MedianIncome_TopFive.png\")"
   ]
  },
  {
   "cell_type": "code",
   "execution_count": 11,
   "metadata": {},
   "outputs": [
    {
     "data": {
      "text/html": [
       "<div>\n",
       "<style scoped>\n",
       "    .dataframe tbody tr th:only-of-type {\n",
       "        vertical-align: middle;\n",
       "    }\n",
       "\n",
       "    .dataframe tbody tr th {\n",
       "        vertical-align: top;\n",
       "    }\n",
       "\n",
       "    .dataframe thead th {\n",
       "        text-align: right;\n",
       "    }\n",
       "</style>\n",
       "<table border=\"1\" class=\"dataframe\">\n",
       "  <thead>\n",
       "    <tr style=\"text-align: right;\">\n",
       "      <th></th>\n",
       "      <th>State Abbreviations</th>\n",
       "      <th>Median Income</th>\n",
       "      <th>Total Murders</th>\n",
       "    </tr>\n",
       "  </thead>\n",
       "  <tbody>\n",
       "    <tr>\n",
       "      <th>49</th>\n",
       "      <td>MS</td>\n",
       "      <td>44787.0</td>\n",
       "      <td>189.0</td>\n",
       "    </tr>\n",
       "    <tr>\n",
       "      <th>46</th>\n",
       "      <td>LA</td>\n",
       "      <td>51707.0</td>\n",
       "      <td>522.0</td>\n",
       "    </tr>\n",
       "    <tr>\n",
       "      <th>45</th>\n",
       "      <td>NM</td>\n",
       "      <td>53113.0</td>\n",
       "      <td>146.0</td>\n",
       "    </tr>\n",
       "    <tr>\n",
       "      <th>47</th>\n",
       "      <td>WV</td>\n",
       "      <td>53706.0</td>\n",
       "      <td>72.0</td>\n",
       "    </tr>\n",
       "    <tr>\n",
       "      <th>29</th>\n",
       "      <td>AR</td>\n",
       "      <td>54539.0</td>\n",
       "      <td>231.0</td>\n",
       "    </tr>\n",
       "  </tbody>\n",
       "</table>\n",
       "</div>"
      ],
      "text/plain": [
       "   State Abbreviations  Median Income  Total Murders\n",
       "49                  MS        44787.0          189.0\n",
       "46                  LA        51707.0          522.0\n",
       "45                  NM        53113.0          146.0\n",
       "47                  WV        53706.0           72.0\n",
       "29                  AR        54539.0          231.0"
      ]
     },
     "execution_count": 11,
     "metadata": {},
     "output_type": "execute_result"
    }
   ],
   "source": [
    "#create dataframe for Bottom Five Median Income\n",
    "medincome_multibar_bottomfive_df = medincome_multibar_df.sort_values('Median Income',ascending=True).head()\n",
    "medincome_multibar_bottomfive_df"
   ]
  },
  {
   "cell_type": "code",
   "execution_count": 12,
   "metadata": {},
   "outputs": [
    {
     "data": {
      "image/png": "[encoded data removed]",
      "text/plain": [
       "<Figure size 1440x360 with 2 Axes>"
      ]
     },
     "metadata": {
      "needs_background": "light"
     },
     "output_type": "display_data"
    },
    {
     "data": {
      "text/plain": [
       "<Figure size 432x288 with 0 Axes>"
      ]
     },
     "metadata": {},
     "output_type": "display_data"
    }
   ],
   "source": [
    "#create and save the graph\n",
    "medincome_multi_bottomfive_plot = medincome_multibar_bottomfive_df.plot(kind=\"bar\", secondary_y = ['Median Income'], figsize=(20,5))\n",
    "\n",
    "# PandasPlot.set_xticklabels() can be used to set the tick labels\n",
    "medincome_multi_bottomfive_plot.set_xticklabels(medincome_multibar_bottomfive_df['State Abbreviations'], rotation=45)\n",
    "plt.title('Median Income vs Total Murders (Bottom 5 States)')\n",
    "plt.ylim([0, 70000])\n",
    "plt.show()\n",
    "plt.tight_layout()\n",
    "plt.savefig(\"Image Output/Multibar_MedianIncome_BottomFive.png\")"
   ]
  },
  {
   "cell_type": "code",
   "execution_count": 13,
   "metadata": {},
   "outputs": [
    {
     "data": {
      "text/html": [
       "<div>\n",
       "<style scoped>\n",
       "    .dataframe tbody tr th:only-of-type {\n",
       "        vertical-align: middle;\n",
       "    }\n",
       "\n",
       "    .dataframe tbody tr th {\n",
       "        vertical-align: top;\n",
       "    }\n",
       "\n",
       "    .dataframe thead th {\n",
       "        text-align: right;\n",
       "    }\n",
       "</style>\n",
       "<table border=\"1\" class=\"dataframe\">\n",
       "  <thead>\n",
       "    <tr style=\"text-align: right;\">\n",
       "      <th></th>\n",
       "      <th>State Abbreviations</th>\n",
       "      <th>Median Home Value</th>\n",
       "      <th>Total Murders</th>\n",
       "    </tr>\n",
       "  </thead>\n",
       "  <tbody>\n",
       "    <tr>\n",
       "      <th>7</th>\n",
       "      <td>HI</td>\n",
       "      <td>619000.0</td>\n",
       "      <td>32.0</td>\n",
       "    </tr>\n",
       "    <tr>\n",
       "      <th>48</th>\n",
       "      <td>DC</td>\n",
       "      <td>567800.0</td>\n",
       "      <td>166.0</td>\n",
       "    </tr>\n",
       "    <tr>\n",
       "      <th>36</th>\n",
       "      <td>CA</td>\n",
       "      <td>550800.0</td>\n",
       "      <td>1679.0</td>\n",
       "    </tr>\n",
       "    <tr>\n",
       "      <th>10</th>\n",
       "      <td>MA</td>\n",
       "      <td>408100.0</td>\n",
       "      <td>146.0</td>\n",
       "    </tr>\n",
       "    <tr>\n",
       "      <th>42</th>\n",
       "      <td>WA</td>\n",
       "      <td>393800.0</td>\n",
       "      <td>194.0</td>\n",
       "    </tr>\n",
       "  </tbody>\n",
       "</table>\n",
       "</div>"
      ],
      "text/plain": [
       "   State Abbreviations  Median Home Value  Total Murders\n",
       "7                   HI           619000.0           32.0\n",
       "48                  DC           567800.0          166.0\n",
       "36                  CA           550800.0         1679.0\n",
       "10                  MA           408100.0          146.0\n",
       "42                  WA           393800.0          194.0"
      ]
     },
     "execution_count": 13,
     "metadata": {},
     "output_type": "execute_result"
    }
   ],
   "source": [
    "#create a dataframe for Top Five Median Home Value\n",
    "medhome_multibar_df = data_df[['State','Median Home Value','Total Murders']]\n",
    "medhome_multibar_df = medhome_multibar_df.sort_values('State')\n",
    "medhome_multibar_df['State Abbreviations'] = abbrev_list\n",
    "medhome_multibar_df = medhome_multibar_df[['State Abbreviations', 'Median Home Value', 'Total Murders']]\n",
    "medhome_multibar_topfive_df = medhome_multibar_df.sort_values('Median Home Value',ascending=False).head()\n",
    "medhome_multibar_topfive_df"
   ]
  },
  {
   "cell_type": "code",
   "execution_count": 14,
   "metadata": {
    "scrolled": true
   },
   "outputs": [
    {
     "data": {
      "image/png": "[encoded data removed]",
      "text/plain": [
       "<Figure size 1440x360 with 2 Axes>"
      ]
     },
     "metadata": {
      "needs_background": "light"
     },
     "output_type": "display_data"
    },
    {
     "data": {
      "text/plain": [
       "<Figure size 432x288 with 0 Axes>"
      ]
     },
     "metadata": {},
     "output_type": "display_data"
    }
   ],
   "source": [
    "#create and save the graph\n",
    "medhome_multi_topfive_plot = medhome_multibar_topfive_df.plot(kind=\"bar\", secondary_y = ['Median Home Value'], figsize=(20,5))\n",
    "\n",
    "# PandasPlot.set_xticklabels() can be used to set the tick labels\n",
    "medhome_multi_topfive_plot.set_xticklabels(medhome_multibar_topfive_df['State Abbreviations'], rotation=45)\n",
    "plt.title('Median Home Value vs Total Murders (Top 5 States)')\n",
    "\n",
    "plt.show()\n",
    "plt.tight_layout()\n",
    "plt.savefig(\"Image Output/Multibar_MedianHome_TopFive.png\")"
   ]
  },
  {
   "cell_type": "code",
   "execution_count": 15,
   "metadata": {
    "scrolled": true
   },
   "outputs": [
    {
     "data": {
      "text/html": [
       "<div>\n",
       "<style scoped>\n",
       "    .dataframe tbody tr th:only-of-type {\n",
       "        vertical-align: middle;\n",
       "    }\n",
       "\n",
       "    .dataframe tbody tr th {\n",
       "        vertical-align: top;\n",
       "    }\n",
       "\n",
       "    .dataframe thead th {\n",
       "        text-align: right;\n",
       "    }\n",
       "</style>\n",
       "<table border=\"1\" class=\"dataframe\">\n",
       "  <thead>\n",
       "    <tr style=\"text-align: right;\">\n",
       "      <th></th>\n",
       "      <th>State Abbreviations</th>\n",
       "      <th>Median Home Value</th>\n",
       "      <th>Total Murders</th>\n",
       "    </tr>\n",
       "  </thead>\n",
       "  <tbody>\n",
       "    <tr>\n",
       "      <th>7</th>\n",
       "      <td>HI</td>\n",
       "      <td>619000.0</td>\n",
       "      <td>32.0</td>\n",
       "    </tr>\n",
       "    <tr>\n",
       "      <th>48</th>\n",
       "      <td>DC</td>\n",
       "      <td>567800.0</td>\n",
       "      <td>166.0</td>\n",
       "    </tr>\n",
       "    <tr>\n",
       "      <th>36</th>\n",
       "      <td>CA</td>\n",
       "      <td>550800.0</td>\n",
       "      <td>1679.0</td>\n",
       "    </tr>\n",
       "    <tr>\n",
       "      <th>10</th>\n",
       "      <td>MA</td>\n",
       "      <td>408100.0</td>\n",
       "      <td>146.0</td>\n",
       "    </tr>\n",
       "    <tr>\n",
       "      <th>42</th>\n",
       "      <td>WA</td>\n",
       "      <td>393800.0</td>\n",
       "      <td>194.0</td>\n",
       "    </tr>\n",
       "  </tbody>\n",
       "</table>\n",
       "</div>"
      ],
      "text/plain": [
       "   State Abbreviations  Median Home Value  Total Murders\n",
       "7                   HI           619000.0           32.0\n",
       "48                  DC           567800.0          166.0\n",
       "36                  CA           550800.0         1679.0\n",
       "10                  MA           408100.0          146.0\n",
       "42                  WA           393800.0          194.0"
      ]
     },
     "execution_count": 15,
     "metadata": {},
     "output_type": "execute_result"
    }
   ],
   "source": [
    "#create a dataframe for Bottom Five Median Income\n",
    "medhome_multibar_bottomfive_df = medhome_multibar_df.sort_values('Median Home Value',ascending=False).head()\n",
    "medhome_multibar_bottomfive_df"
   ]
  },
  {
   "cell_type": "code",
   "execution_count": 16,
   "metadata": {},
   "outputs": [
    {
     "data": {
      "image/png": "[encoded data removed]",
      "text/plain": [
       "<Figure size 1440x360 with 2 Axes>"
      ]
     },
     "metadata": {
      "needs_background": "light"
     },
     "output_type": "display_data"
    },
    {
     "data": {
      "text/plain": [
       "<Figure size 432x288 with 0 Axes>"
      ]
     },
     "metadata": {},
     "output_type": "display_data"
    }
   ],
   "source": [
    "#create and save the graph\n",
    "medhome_multi_bottomfive_plot = medhome_multibar_bottomfive_df.plot(kind=\"bar\", secondary_y = ['Median Home Value'], figsize=(20,5))\n",
    "\n",
    "# PandasPlot.set_xticklabels() can be used to set the tick labels\n",
    "medhome_multi_bottomfive_plot.set_xticklabels(medhome_multibar_bottomfive_df['State Abbreviations'], rotation=45)\n",
    "plt.title('Median Home Value vs Total Murders (Bottom 5 States)')\n",
    "\n",
    "plt.show()\n",
    "plt.tight_layout()\n",
    "plt.savefig(\"Image Output/Multibar_MedianHome_BottomFive.png\")"
   ]
  },
  {
   "cell_type": "code",
   "execution_count": 17,
   "metadata": {},
   "outputs": [
    {
     "data": {
      "text/html": [
       "<div>\n",
       "<style scoped>\n",
       "    .dataframe tbody tr th:only-of-type {\n",
       "        vertical-align: middle;\n",
       "    }\n",
       "\n",
       "    .dataframe tbody tr th {\n",
       "        vertical-align: top;\n",
       "    }\n",
       "\n",
       "    .dataframe thead th {\n",
       "        text-align: right;\n",
       "    }\n",
       "</style>\n",
       "<table border=\"1\" class=\"dataframe\">\n",
       "  <thead>\n",
       "    <tr style=\"text-align: right;\">\n",
       "      <th></th>\n",
       "      <th>State Abbreviations</th>\n",
       "      <th>Poverty Rate</th>\n",
       "      <th>Total Murders</th>\n",
       "    </tr>\n",
       "  </thead>\n",
       "  <tbody>\n",
       "    <tr>\n",
       "      <th>49</th>\n",
       "      <td>MS</td>\n",
       "      <td>19.5</td>\n",
       "      <td>189.0</td>\n",
       "    </tr>\n",
       "    <tr>\n",
       "      <th>46</th>\n",
       "      <td>LA</td>\n",
       "      <td>18.8</td>\n",
       "      <td>522.0</td>\n",
       "    </tr>\n",
       "    <tr>\n",
       "      <th>45</th>\n",
       "      <td>NM</td>\n",
       "      <td>17.5</td>\n",
       "      <td>146.0</td>\n",
       "    </tr>\n",
       "    <tr>\n",
       "      <th>47</th>\n",
       "      <td>WV</td>\n",
       "      <td>16.2</td>\n",
       "      <td>72.0</td>\n",
       "    </tr>\n",
       "    <tr>\n",
       "      <th>41</th>\n",
       "      <td>KY</td>\n",
       "      <td>16.0</td>\n",
       "      <td>221.0</td>\n",
       "    </tr>\n",
       "  </tbody>\n",
       "</table>\n",
       "</div>"
      ],
      "text/plain": [
       "   State Abbreviations  Poverty Rate  Total Murders\n",
       "49                  MS          19.5          189.0\n",
       "46                  LA          18.8          522.0\n",
       "45                  NM          17.5          146.0\n",
       "47                  WV          16.2           72.0\n",
       "41                  KY          16.0          221.0"
      ]
     },
     "execution_count": 17,
     "metadata": {},
     "output_type": "execute_result"
    }
   ],
   "source": [
    "#create a dataframe for Top Five Poverty Rate\n",
    "poverty_multibar_df = data_df[['State','Poverty Rate','Total Murders']]\n",
    "poverty_multibar_df = poverty_multibar_df.sort_values('State')\n",
    "poverty_multibar_df['State Abbreviations'] = abbrev_list\n",
    "poverty_multibar_df = poverty_multibar_df[['State Abbreviations', 'Poverty Rate', 'Total Murders']]\n",
    "poverty_multibar_topfive_df = poverty_multibar_df.sort_values('Poverty Rate',ascending=False).head()\n",
    "poverty_multibar_topfive_df"
   ]
  },
  {
   "cell_type": "code",
   "execution_count": 18,
   "metadata": {
    "scrolled": false
   },
   "outputs": [
    {
     "data": {
      "image/png": "[encoded data removed]",
      "text/plain": [
       "<Figure size 1440x360 with 2 Axes>"
      ]
     },
     "metadata": {
      "needs_background": "light"
     },
     "output_type": "display_data"
    },
    {
     "data": {
      "text/plain": [
       "<Figure size 432x288 with 0 Axes>"
      ]
     },
     "metadata": {},
     "output_type": "display_data"
    }
   ],
   "source": [
    "#create and save the graph\n",
    "poverty_multi_topfive_plot = poverty_multibar_topfive_df.plot(kind=\"bar\", secondary_y = ['Poverty Rate'], figsize=(20,5))\n",
    "\n",
    "# PandasPlot.set_xticklabels() can be used to set the tick labels\n",
    "poverty_multi_topfive_plot.set_xticklabels(poverty_multibar_topfive_df['State Abbreviations'], rotation=45)\n",
    "plt.title('Poverty Rate vs Total Murders (Top 5 States)')\n",
    "\n",
    "plt.show()\n",
    "plt.tight_layout()\n",
    "plt.savefig(\"Image Output/Multibar_PovertyRate_TopFive.png\")"
   ]
  },
  {
   "cell_type": "code",
   "execution_count": 19,
   "metadata": {
    "scrolled": true
   },
   "outputs": [
    {
     "data": {
      "text/html": [
       "<div>\n",
       "<style scoped>\n",
       "    .dataframe tbody tr th:only-of-type {\n",
       "        vertical-align: middle;\n",
       "    }\n",
       "\n",
       "    .dataframe tbody tr th {\n",
       "        vertical-align: top;\n",
       "    }\n",
       "\n",
       "    .dataframe thead th {\n",
       "        text-align: right;\n",
       "    }\n",
       "</style>\n",
       "<table border=\"1\" class=\"dataframe\">\n",
       "  <thead>\n",
       "    <tr style=\"text-align: right;\">\n",
       "      <th></th>\n",
       "      <th>State Abbreviations</th>\n",
       "      <th>Poverty Rate</th>\n",
       "      <th>Total Murders</th>\n",
       "    </tr>\n",
       "  </thead>\n",
       "  <tbody>\n",
       "    <tr>\n",
       "      <th>6</th>\n",
       "      <td>NH</td>\n",
       "      <td>7.5</td>\n",
       "      <td>33.0</td>\n",
       "    </tr>\n",
       "    <tr>\n",
       "      <th>1</th>\n",
       "      <td>UT</td>\n",
       "      <td>8.8</td>\n",
       "      <td>66.0</td>\n",
       "    </tr>\n",
       "    <tr>\n",
       "      <th>20</th>\n",
       "      <td>MN</td>\n",
       "      <td>8.9</td>\n",
       "      <td>114.0</td>\n",
       "    </tr>\n",
       "    <tr>\n",
       "      <th>7</th>\n",
       "      <td>HI</td>\n",
       "      <td>9.0</td>\n",
       "      <td>32.0</td>\n",
       "    </tr>\n",
       "    <tr>\n",
       "      <th>28</th>\n",
       "      <td>MD</td>\n",
       "      <td>9.1</td>\n",
       "      <td>551.0</td>\n",
       "    </tr>\n",
       "  </tbody>\n",
       "</table>\n",
       "</div>"
      ],
      "text/plain": [
       "   State Abbreviations  Poverty Rate  Total Murders\n",
       "6                   NH           7.5           33.0\n",
       "1                   UT           8.8           66.0\n",
       "20                  MN           8.9          114.0\n",
       "7                   HI           9.0           32.0\n",
       "28                  MD           9.1          551.0"
      ]
     },
     "execution_count": 19,
     "metadata": {},
     "output_type": "execute_result"
    }
   ],
   "source": [
    "#create a dataframe for Bottom Five Poverty Rate\n",
    "poverty_multibar_bottomfive_df = poverty_multibar_df.sort_values('Poverty Rate',ascending=True).head()\n",
    "poverty_multibar_bottomfive_df"
   ]
  },
  {
   "cell_type": "code",
   "execution_count": 20,
   "metadata": {},
   "outputs": [
    {
     "data": {
      "image/png": "[encoded data removed]",
      "text/plain": [
       "<Figure size 1440x360 with 2 Axes>"
      ]
     },
     "metadata": {
      "needs_background": "light"
     },
     "output_type": "display_data"
    },
    {
     "data": {
      "text/plain": [
       "<Figure size 432x288 with 0 Axes>"
      ]
     },
     "metadata": {},
     "output_type": "display_data"
    }
   ],
   "source": [
    "#create and save the graph\n",
    "poverty_multi_bottomfive_plot = poverty_multibar_bottomfive_df.plot(kind=\"bar\", secondary_y = ['Poverty Rate'], figsize=(20,5))\n",
    "\n",
    "# PandasPlot.set_xticklabels() can be used to set the tick labels\n",
    "poverty_multi_bottomfive_plot.set_xticklabels(poverty_multibar_bottomfive_df['State Abbreviations'], rotation=45)\n",
    "plt.title('Poverty Rate vs Total Murders (Bottom 5 States)')\n",
    "\n",
    "plt.show()\n",
    "plt.tight_layout()\n",
    "plt.savefig(\"Image Output/Multibar_PovertyRate_BottomFive.png\")"
   ]
  },
  {
   "cell_type": "code",
   "execution_count": 21,
   "metadata": {},
   "outputs": [
    {
     "data": {
      "text/html": [
       "<div>\n",
       "<style scoped>\n",
       "    .dataframe tbody tr th:only-of-type {\n",
       "        vertical-align: middle;\n",
       "    }\n",
       "\n",
       "    .dataframe tbody tr th {\n",
       "        vertical-align: top;\n",
       "    }\n",
       "\n",
       "    .dataframe thead th {\n",
       "        text-align: right;\n",
       "    }\n",
       "</style>\n",
       "<table border=\"1\" class=\"dataframe\">\n",
       "  <thead>\n",
       "    <tr style=\"text-align: right;\">\n",
       "      <th></th>\n",
       "      <th>State Abbreviations</th>\n",
       "      <th>Unemployment Rate</th>\n",
       "      <th>Total Murders</th>\n",
       "    </tr>\n",
       "  </thead>\n",
       "  <tbody>\n",
       "    <tr>\n",
       "      <th>50</th>\n",
       "      <td>AK</td>\n",
       "      <td>6.0</td>\n",
       "      <td>69.0</td>\n",
       "    </tr>\n",
       "    <tr>\n",
       "      <th>49</th>\n",
       "      <td>MS</td>\n",
       "      <td>5.7</td>\n",
       "      <td>189.0</td>\n",
       "    </tr>\n",
       "    <tr>\n",
       "      <th>48</th>\n",
       "      <td>DC</td>\n",
       "      <td>5.3</td>\n",
       "      <td>166.0</td>\n",
       "    </tr>\n",
       "    <tr>\n",
       "      <th>47</th>\n",
       "      <td>WV</td>\n",
       "      <td>5.0</td>\n",
       "      <td>72.0</td>\n",
       "    </tr>\n",
       "    <tr>\n",
       "      <th>46</th>\n",
       "      <td>LA</td>\n",
       "      <td>4.9</td>\n",
       "      <td>522.0</td>\n",
       "    </tr>\n",
       "  </tbody>\n",
       "</table>\n",
       "</div>"
      ],
      "text/plain": [
       "   State Abbreviations  Unemployment Rate  Total Murders\n",
       "50                  AK                6.0           69.0\n",
       "49                  MS                5.7          189.0\n",
       "48                  DC                5.3          166.0\n",
       "47                  WV                5.0           72.0\n",
       "46                  LA                4.9          522.0"
      ]
     },
     "execution_count": 21,
     "metadata": {},
     "output_type": "execute_result"
    }
   ],
   "source": [
    "#create a dataframe for Top Five Unemployment Rate\n",
    "unemploy_multibar_df = data_df[['State','Unemployment Rate','Total Murders']]\n",
    "unemploy_multibar_df = unemploy_multibar_df.sort_values('State')\n",
    "unemploy_multibar_df['State Abbreviations'] = abbrev_list\n",
    "unemploy_multibar_df = unemploy_multibar_df[['State Abbreviations', 'Unemployment Rate', 'Total Murders']]\n",
    "unemploy_multibar_topfive_df = unemploy_multibar_df.sort_values('Unemployment Rate',ascending=False).head()\n",
    "unemploy_multibar_topfive_df"
   ]
  },
  {
   "cell_type": "code",
   "execution_count": 22,
   "metadata": {
    "scrolled": true
   },
   "outputs": [
    {
     "data": {
      "image/png": "[encoded data removed]",
      "text/plain": [
       "<Figure size 1440x360 with 2 Axes>"
      ]
     },
     "metadata": {
      "needs_background": "light"
     },
     "output_type": "display_data"
    },
    {
     "data": {
      "text/plain": [
       "<Figure size 432x288 with 0 Axes>"
      ]
     },
     "metadata": {},
     "output_type": "display_data"
    }
   ],
   "source": [
    "#create and save the graph\n",
    "unemploy_multi_topfive_plot = unemploy_multibar_topfive_df.plot(kind=\"bar\", secondary_y = ['Unemployment Rate'], figsize=(20,5))\n",
    "\n",
    "# PandasPlot.set_xticklabels() can be used to set the tick labels\n",
    "unemploy_multi_topfive_plot.set_xticklabels(unemploy_multibar_topfive_df['State Abbreviations'], rotation=45)\n",
    "plt.title('Unemployment Rate vs Total Murders (Top 5 States)')\n",
    "plt.ylim([0.0, 8.0])\n",
    "plt.show()\n",
    "plt.tight_layout()\n",
    "plt.savefig(\"Image Output/Multibar_Unemployment_TopFive.png\")"
   ]
  },
  {
   "cell_type": "code",
   "execution_count": 23,
   "metadata": {
    "scrolled": true
   },
   "outputs": [
    {
     "data": {
      "text/html": [
       "<div>\n",
       "<style scoped>\n",
       "    .dataframe tbody tr th:only-of-type {\n",
       "        vertical-align: middle;\n",
       "    }\n",
       "\n",
       "    .dataframe tbody tr th {\n",
       "        vertical-align: top;\n",
       "    }\n",
       "\n",
       "    .dataframe thead th {\n",
       "        text-align: right;\n",
       "    }\n",
       "</style>\n",
       "<table border=\"1\" class=\"dataframe\">\n",
       "  <thead>\n",
       "    <tr style=\"text-align: right;\">\n",
       "      <th></th>\n",
       "      <th>State Abbreviations</th>\n",
       "      <th>Unemployment Rate</th>\n",
       "      <th>Total Murders</th>\n",
       "    </tr>\n",
       "  </thead>\n",
       "  <tbody>\n",
       "    <tr>\n",
       "      <th>0</th>\n",
       "      <td>VT</td>\n",
       "      <td>2.3</td>\n",
       "      <td>11.0</td>\n",
       "    </tr>\n",
       "    <tr>\n",
       "      <th>1</th>\n",
       "      <td>UT</td>\n",
       "      <td>2.3</td>\n",
       "      <td>66.0</td>\n",
       "    </tr>\n",
       "    <tr>\n",
       "      <th>2</th>\n",
       "      <td>SC</td>\n",
       "      <td>2.3</td>\n",
       "      <td>445.0</td>\n",
       "    </tr>\n",
       "    <tr>\n",
       "      <th>3</th>\n",
       "      <td>ND</td>\n",
       "      <td>2.4</td>\n",
       "      <td>26.0</td>\n",
       "    </tr>\n",
       "    <tr>\n",
       "      <th>4</th>\n",
       "      <td>CO</td>\n",
       "      <td>2.5</td>\n",
       "      <td>209.0</td>\n",
       "    </tr>\n",
       "  </tbody>\n",
       "</table>\n",
       "</div>"
      ],
      "text/plain": [
       "  State Abbreviations  Unemployment Rate  Total Murders\n",
       "0                  VT                2.3           11.0\n",
       "1                  UT                2.3           66.0\n",
       "2                  SC                2.3          445.0\n",
       "3                  ND                2.4           26.0\n",
       "4                  CO                2.5          209.0"
      ]
     },
     "execution_count": 23,
     "metadata": {},
     "output_type": "execute_result"
    }
   ],
   "source": [
    "#create a dataframe for Bottom Five Unemployment Rate\n",
    "unemploy_multibar_bottomfive_df = unemploy_multibar_df.sort_values('Unemployment Rate',ascending=True).head()\n",
    "unemploy_multibar_bottomfive_df"
   ]
  },
  {
   "cell_type": "code",
   "execution_count": 24,
   "metadata": {},
   "outputs": [
    {
     "data": {
      "image/png": "[encoded data removed]",
      "text/plain": [
       "<Figure size 1440x360 with 2 Axes>"
      ]
     },
     "metadata": {
      "needs_background": "light"
     },
     "output_type": "display_data"
    },
    {
     "data": {
      "text/plain": [
       "<Figure size 432x288 with 0 Axes>"
      ]
     },
     "metadata": {},
     "output_type": "display_data"
    }
   ],
   "source": [
    "#create and save the graph\n",
    "unemploy_multi_bottomfive_plot = unemploy_multibar_bottomfive_df.plot(kind=\"bar\", secondary_y = ['Unemployment Rate'], figsize=(20,5))\n",
    "\n",
    "# PandasPlot.set_xticklabels() can be used to set the tick labels\n",
    "unemploy_multi_bottomfive_plot.set_xticklabels(unemploy_multibar_bottomfive_df['State Abbreviations'], rotation=45)\n",
    "plt.title('Unemployment Rate vs Total Murders (Bottom 5 States)')\n",
    "plt.ylim([0.0, 4.0])\n",
    "plt.show()\n",
    "plt.tight_layout()\n",
    "plt.savefig(\"Image Output/Multibar_Unemployment_BottomFive.png\")"
   ]
  },
  {
   "cell_type": "code",
   "execution_count": 25,
   "metadata": {
    "scrolled": true
   },
   "outputs": [
    {
     "data": {
      "text/html": [
       "<div>\n",
       "<style scoped>\n",
       "    .dataframe tbody tr th:only-of-type {\n",
       "        vertical-align: middle;\n",
       "    }\n",
       "\n",
       "    .dataframe tbody tr th {\n",
       "        vertical-align: top;\n",
       "    }\n",
       "\n",
       "    .dataframe thead th {\n",
       "        text-align: right;\n",
       "    }\n",
       "</style>\n",
       "<table border=\"1\" class=\"dataframe\">\n",
       "  <thead>\n",
       "    <tr style=\"text-align: right;\">\n",
       "      <th></th>\n",
       "      <th>Total Population</th>\n",
       "      <th>Median Income</th>\n",
       "      <th>Median Home Value</th>\n",
       "      <th>Unemployment Rate</th>\n",
       "      <th>Poverty Rate</th>\n",
       "      <th>Total Murders</th>\n",
       "      <th>Homicide Rate</th>\n",
       "    </tr>\n",
       "  </thead>\n",
       "  <tbody>\n",
       "    <tr>\n",
       "      <th>Total Population</th>\n",
       "      <td>1.000000</td>\n",
       "      <td>0.011151</td>\n",
       "      <td>0.169137</td>\n",
       "      <td>0.042558</td>\n",
       "      <td>0.060073</td>\n",
       "      <td>0.847571</td>\n",
       "      <td>-0.074669</td>\n",
       "    </tr>\n",
       "    <tr>\n",
       "      <th>Median Income</th>\n",
       "      <td>0.011151</td>\n",
       "      <td>1.000000</td>\n",
       "      <td>0.702282</td>\n",
       "      <td>-0.192988</td>\n",
       "      <td>-0.791572</td>\n",
       "      <td>-0.015007</td>\n",
       "      <td>0.048781</td>\n",
       "    </tr>\n",
       "    <tr>\n",
       "      <th>Median Home Value</th>\n",
       "      <td>0.169137</td>\n",
       "      <td>0.702282</td>\n",
       "      <td>1.000000</td>\n",
       "      <td>-0.024518</td>\n",
       "      <td>-0.453434</td>\n",
       "      <td>0.079397</td>\n",
       "      <td>0.142964</td>\n",
       "    </tr>\n",
       "    <tr>\n",
       "      <th>Unemployment Rate</th>\n",
       "      <td>0.042558</td>\n",
       "      <td>-0.192988</td>\n",
       "      <td>-0.024518</td>\n",
       "      <td>1.000000</td>\n",
       "      <td>0.525072</td>\n",
       "      <td>0.153039</td>\n",
       "      <td>0.502469</td>\n",
       "    </tr>\n",
       "    <tr>\n",
       "      <th>Poverty Rate</th>\n",
       "      <td>0.060073</td>\n",
       "      <td>-0.791572</td>\n",
       "      <td>-0.453434</td>\n",
       "      <td>0.525072</td>\n",
       "      <td>1.000000</td>\n",
       "      <td>0.178898</td>\n",
       "      <td>0.388352</td>\n",
       "    </tr>\n",
       "    <tr>\n",
       "      <th>Total Murders</th>\n",
       "      <td>0.847571</td>\n",
       "      <td>-0.015007</td>\n",
       "      <td>0.079397</td>\n",
       "      <td>0.153039</td>\n",
       "      <td>0.178898</td>\n",
       "      <td>1.000000</td>\n",
       "      <td>0.233241</td>\n",
       "    </tr>\n",
       "    <tr>\n",
       "      <th>Homicide Rate</th>\n",
       "      <td>-0.074669</td>\n",
       "      <td>0.048781</td>\n",
       "      <td>0.142964</td>\n",
       "      <td>0.502469</td>\n",
       "      <td>0.388352</td>\n",
       "      <td>0.233241</td>\n",
       "      <td>1.000000</td>\n",
       "    </tr>\n",
       "  </tbody>\n",
       "</table>\n",
       "</div>"
      ],
      "text/plain": [
       "                   Total Population  Median Income  Median Home Value  \\\n",
       "Total Population           1.000000       0.011151           0.169137   \n",
       "Median Income              0.011151       1.000000           0.702282   \n",
       "Median Home Value          0.169137       0.702282           1.000000   \n",
       "Unemployment Rate          0.042558      -0.192988          -0.024518   \n",
       "Poverty Rate               0.060073      -0.791572          -0.453434   \n",
       "Total Murders              0.847571      -0.015007           0.079397   \n",
       "Homicide Rate             -0.074669       0.048781           0.142964   \n",
       "\n",
       "                   Unemployment Rate  Poverty Rate  Total Murders  \\\n",
       "Total Population            0.042558      0.060073       0.847571   \n",
       "Median Income              -0.192988     -0.791572      -0.015007   \n",
       "Median Home Value          -0.024518     -0.453434       0.079397   \n",
       "Unemployment Rate           1.000000      0.525072       0.153039   \n",
       "Poverty Rate                0.525072      1.000000       0.178898   \n",
       "Total Murders               0.153039      0.178898       1.000000   \n",
       "Homicide Rate               0.502469      0.388352       0.233241   \n",
       "\n",
       "                   Homicide Rate  \n",
       "Total Population       -0.074669  \n",
       "Median Income           0.048781  \n",
       "Median Home Value       0.142964  \n",
       "Unemployment Rate       0.502469  \n",
       "Poverty Rate            0.388352  \n",
       "Total Murders           0.233241  \n",
       "Homicide Rate           1.000000  "
      ]
     },
     "execution_count": 25,
     "metadata": {},
     "output_type": "execute_result"
    }
   ],
   "source": [
    "# BONUS: Generate the correlation matrix and find the strongest positive and negative correlations\n",
    "\n",
    "hm_corr = data_df.corr()\n",
    "hm_corr.unstack().sort_values()\n",
    "\n",
    "hm_corr"
   ]
  },
  {
   "cell_type": "code",
   "execution_count": 26,
   "metadata": {
    "scrolled": true
   },
   "outputs": [
    {
     "data": {
      "image/png": "[encoded data removed]",
      "text/plain": [
       "<Figure size 288x288 with 1 Axes>"
      ]
     },
     "metadata": {
      "needs_background": "light"
     },
     "output_type": "display_data"
    }
   ],
   "source": [
    "# correlation map for fun\n",
    "\n",
    "plt.matshow(data_df.corr())\n",
    "plt.show()"
   ]
  },
  {
   "cell_type": "code",
   "execution_count": 28,
   "metadata": {},
   "outputs": [
    {
     "data": {
      "image/png": "[encoded data removed]",
      "text/plain": [
       "<Figure size 1152x432 with 2 Axes>"
      ]
     },
     "metadata": {
      "needs_background": "light"
     },
     "output_type": "display_data"
    }
   ],
   "source": [
    "# Increase the size of the heatmap.\n",
    "plt.figure(figsize=(16, 6))\n",
    "# Store heatmap object in a variable to easily access it when you want to include more features (such as title).\n",
    "# Set the range of values to be displayed on the colormap from -1 to 1, and set the annotation to True to display the correlation values on the heatmap.\n",
    "heatmap = sns.heatmap(data_df.corr(), vmin=-1, vmax=1, annot=True, cmap='BrBG')\n",
    "# Give a title to the heatmap. Pad defines the distance of the title from the top of the heatmap.\n",
    "heatmap.set_title('Correlation Heatmap', fontdict={'fontsize':12}, pad=12);\n",
    "plt.savefig(\"Image Output/Correlation_Heatmap.png\")"
   ]
  },
  {
   "cell_type": "code",
   "execution_count": null,
   "metadata": {},
   "outputs": [],
   "source": []
  }
 ],
 "metadata": {
  "kernelspec": {
   "display_name": "Python 3",
   "language": "python",
   "name": "python3"
  },
  "language_info": {
   "codemirror_mode": {
    "name": "ipython",
    "version": 3
   },
   "file_extension": ".py",
   "mimetype": "text/x-python",
   "name": "python",
   "nbconvert_exporter": "python",
   "pygments_lexer": "ipython3",
   "version": "3.8.5"
  }
 },
 "nbformat": 4,
 "nbformat_minor": 4
}
