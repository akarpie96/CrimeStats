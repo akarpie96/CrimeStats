{
 "cells": [
  {
   "cell_type": "code",
   "execution_count": 24,
   "metadata": {},
   "outputs": [],
   "source": [
    "%matplotlib notebook\n",
    "%matplotlib inline\n",
    "import os\n",
    "import csv\n",
    "import pandas as pd\n",
    "from matplotlib import pyplot as plt\n",
    "import scipy.stats as st\n",
    "from scipy.stats import linregress\n",
    "import numpy as np"
   ]
  },
  {
   "cell_type": "code",
   "execution_count": 30,
   "metadata": {},
   "outputs": [
    {
     "data": {
      "text/html": [
       "<div>\n",
       "<style scoped>\n",
       "    .dataframe tbody tr th:only-of-type {\n",
       "        vertical-align: middle;\n",
       "    }\n",
       "\n",
       "    .dataframe tbody tr th {\n",
       "        vertical-align: top;\n",
       "    }\n",
       "\n",
       "    .dataframe thead th {\n",
       "        text-align: right;\n",
       "    }\n",
       "</style>\n",
       "<table border=\"1\" class=\"dataframe\">\n",
       "  <thead>\n",
       "    <tr style=\"text-align: right;\">\n",
       "      <th></th>\n",
       "      <th>State</th>\n",
       "      <th>unemployment_rate</th>\n",
       "      <th>Unnamed: 0</th>\n",
       "      <th>Median Income (2019)</th>\n",
       "      <th>2019 Population</th>\n",
       "      <th>Population (2019)</th>\n",
       "      <th>Total Murders (2019)</th>\n",
       "    </tr>\n",
       "  </thead>\n",
       "  <tbody>\n",
       "    <tr>\n",
       "      <th>0</th>\n",
       "      <td>Alabama</td>\n",
       "      <td>2.7</td>\n",
       "      <td>0</td>\n",
       "      <td>56200</td>\n",
       "      <td>731545</td>\n",
       "      <td>731545</td>\n",
       "      <td>4</td>\n",
       "    </tr>\n",
       "    <tr>\n",
       "      <th>1</th>\n",
       "      <td>Alaska</td>\n",
       "      <td>6.0</td>\n",
       "      <td>1</td>\n",
       "      <td>78394</td>\n",
       "      <td>7278717</td>\n",
       "      <td>7278717</td>\n",
       "      <td>69</td>\n",
       "    </tr>\n",
       "    <tr>\n",
       "      <th>2</th>\n",
       "      <td>Arizona</td>\n",
       "      <td>4.6</td>\n",
       "      <td>2</td>\n",
       "      <td>70674</td>\n",
       "      <td>3017804</td>\n",
       "      <td>3017804</td>\n",
       "      <td>337</td>\n",
       "    </tr>\n",
       "    <tr>\n",
       "      <th>3</th>\n",
       "      <td>Arkansas</td>\n",
       "      <td>3.6</td>\n",
       "      <td>3</td>\n",
       "      <td>54539</td>\n",
       "      <td>39512223</td>\n",
       "      <td>39512223</td>\n",
       "      <td>231</td>\n",
       "    </tr>\n",
       "    <tr>\n",
       "      <th>4</th>\n",
       "      <td>California</td>\n",
       "      <td>3.9</td>\n",
       "      <td>4</td>\n",
       "      <td>78105</td>\n",
       "      <td>5758736</td>\n",
       "      <td>5758736</td>\n",
       "      <td>1679</td>\n",
       "    </tr>\n",
       "  </tbody>\n",
       "</table>\n",
       "</div>"
      ],
      "text/plain": [
       "        State  unemployment_rate  Unnamed: 0  Median Income (2019)  \\\n",
       "0     Alabama                2.7           0                 56200   \n",
       "1      Alaska                6.0           1                 78394   \n",
       "2     Arizona                4.6           2                 70674   \n",
       "3    Arkansas                3.6           3                 54539   \n",
       "4  California                3.9           4                 78105   \n",
       "\n",
       "   2019 Population  Population (2019)  Total Murders (2019)  \n",
       "0           731545             731545                     4  \n",
       "1          7278717            7278717                    69  \n",
       "2          3017804            3017804                   337  \n",
       "3         39512223           39512223                   231  \n",
       "4          5758736            5758736                  1679  "
      ]
     },
     "execution_count": 30,
     "metadata": {},
     "output_type": "execute_result"
    }
   ],
   "source": [
    "Unemploy_df=pd.read_csv(\"Resources/state_unemployment.csv\")\n",
    "pop_2019_df=pd.read_csv(\"Clean_Data_Output/Data.csv\")\n",
    "clean_bar_df=pd.read_csv(\"Clean_Data_Output/Clean_Data_Final.csv\")\n",
    "unemp_pop_df = pd.merge(Unemploy_df, pop_2019_df, on=\"State\", how=\"left\")\n",
    "unemp_pop_df.dropna(how='any')\n",
    "unemp_pop_df.head()"
   ]
  },
  {
   "cell_type": "code",
   "execution_count": 3,
   "metadata": {},
   "outputs": [],
   "source": [
    "#bottom_five=Unemploy_df.sort_values(\"unemployment_rate\").head(5)\n",
    "#bottom_five"
   ]
  },
  {
   "cell_type": "code",
   "execution_count": 4,
   "metadata": {},
   "outputs": [],
   "source": [
    "#U_rate=bottom_five[\"unemployment_rate\"]\n",
    "#x_axis=bottom_five[\"states\"]\n",
    "#plt.bar(x_axis, U_rate, color='b', alpha=0.70, align=\"center\")\n",
    "#plt.xticks(rotation = 90)\n",
    "#plt.show()"
   ]
  },
  {
   "cell_type": "code",
   "execution_count": 5,
   "metadata": {},
   "outputs": [],
   "source": [
    "#top_five=Unemploy_df.sort_values(\"unemployment_rate\",ascending=False).head(5)\n",
    "#top_five"
   ]
  },
  {
   "cell_type": "code",
   "execution_count": 6,
   "metadata": {},
   "outputs": [],
   "source": [
    "#U_rate=top_five[\"unemployment_rate\"]\n",
    "#x_axis=top_five[\"states\"]\n",
    "#plt.bar(x_axis, U_rate, color='r', alpha=0.70, align=\"center\")\n",
    "#plt.xticks(rotation = 90)\n",
    "#plt.show()"
   ]
  },
  {
   "cell_type": "code",
   "execution_count": 26,
   "metadata": {},
   "outputs": [
    {
     "data": {
      "text/html": [
       "<div>\n",
       "<style scoped>\n",
       "    .dataframe tbody tr th:only-of-type {\n",
       "        vertical-align: middle;\n",
       "    }\n",
       "\n",
       "    .dataframe tbody tr th {\n",
       "        vertical-align: top;\n",
       "    }\n",
       "\n",
       "    .dataframe thead th {\n",
       "        text-align: right;\n",
       "    }\n",
       "</style>\n",
       "<table border=\"1\" class=\"dataframe\">\n",
       "  <thead>\n",
       "    <tr style=\"text-align: right;\">\n",
       "      <th></th>\n",
       "      <th>State</th>\n",
       "      <th>Median Income (2019)</th>\n",
       "      <th>2019 Population</th>\n",
       "      <th>Total Murders (2019)</th>\n",
       "    </tr>\n",
       "  </thead>\n",
       "  <tbody>\n",
       "    <tr>\n",
       "      <th>0</th>\n",
       "      <td>Alabama</td>\n",
       "      <td>56,200</td>\n",
       "      <td>731,545</td>\n",
       "      <td>4.0</td>\n",
       "    </tr>\n",
       "    <tr>\n",
       "      <th>1</th>\n",
       "      <td>Alaska</td>\n",
       "      <td>78,394</td>\n",
       "      <td>7,278,717</td>\n",
       "      <td>69.0</td>\n",
       "    </tr>\n",
       "    <tr>\n",
       "      <th>2</th>\n",
       "      <td>Arizona</td>\n",
       "      <td>70,674</td>\n",
       "      <td>3,017,804</td>\n",
       "      <td>337.0</td>\n",
       "    </tr>\n",
       "    <tr>\n",
       "      <th>3</th>\n",
       "      <td>Arkansas</td>\n",
       "      <td>54,539</td>\n",
       "      <td>39,512,223</td>\n",
       "      <td>231.0</td>\n",
       "    </tr>\n",
       "    <tr>\n",
       "      <th>4</th>\n",
       "      <td>California</td>\n",
       "      <td>78,105</td>\n",
       "      <td>5,758,736</td>\n",
       "      <td>1679.0</td>\n",
       "    </tr>\n",
       "  </tbody>\n",
       "</table>\n",
       "</div>"
      ],
      "text/plain": [
       "        State Median Income (2019) 2019 Population  Total Murders (2019)\n",
       "0     Alabama               56,200         731,545                   4.0\n",
       "1      Alaska               78,394       7,278,717                  69.0\n",
       "2     Arizona               70,674       3,017,804                 337.0\n",
       "3    Arkansas               54,539      39,512,223                 231.0\n",
       "4  California               78,105       5,758,736                1679.0"
      ]
     },
     "execution_count": 26,
     "metadata": {},
     "output_type": "execute_result"
    }
   ],
   "source": [
    "pop_2019_df.head()\n",
    "del pop_2019_df[\"Unnamed: 0\"]\n",
    "del pop_2019_df[\"Population (2019)\"]\n",
    "pop_2019_df.head()\n",
    "\n",
    "\n"
   ]
  },
  {
   "cell_type": "code",
   "execution_count": 27,
   "metadata": {},
   "outputs": [
    {
     "data": {
      "text/plain": [
       "dtype('float64')"
      ]
     },
     "execution_count": 27,
     "metadata": {},
     "output_type": "execute_result"
    }
   ],
   "source": [
    "new_pop=pop_2019_df.sort_values(by=\"Median Income (2019)\",ascending=True)\n",
    "new_pop.dtypes\n",
    "no_commas=new_pop[\"Median Income (2019)\"].str.replace(\",\", \"\").astype(float)\n",
    "no_commas.dtypes"
   ]
  },
  {
   "cell_type": "code",
   "execution_count": 28,
   "metadata": {},
   "outputs": [
    {
     "data": {
      "image/png": "[encoded data removed]",
      "text/plain": [
       "<Figure size 432x288 with 1 Axes>"
      ]
     },
     "metadata": {
      "needs_background": "light"
     },
     "output_type": "display_data"
    },
    {
     "data": {
      "text/plain": [
       "<Figure size 432x288 with 0 Axes>"
      ]
     },
     "metadata": {},
     "output_type": "display_data"
    }
   ],
   "source": [
    "plt.scatter(no_commas,new_pop[\"Total Murders (2019)\"])\n",
    "plt.xlabel(\"Median Income (2019)\",fontsize =10)\n",
    "plt.ylabel(\"Total Murders (2019)\",fontsize =10)\n",
    "x_values=no_commas\n",
    "y_values=new_pop[\"Total Murders (2019)\"]\n",
    "(slope, intercept, rvalue, pvalue, stderr) = linregress(x_values, y_values)\n",
    "regress_values = x_values * slope + intercept\n",
    "plt.scatter(x_values,y_values)\n",
    "plt.plot(x_values,regress_values)\n",
    "plt.show()\n",
    "plt.savefig(\"Image Output/MedianIncome_Regression.png\")"
   ]
  },
  {
   "cell_type": "code",
   "execution_count": 29,
   "metadata": {},
   "outputs": [
    {
     "data": {
      "text/plain": [
       "-0.02"
      ]
     },
     "execution_count": 29,
     "metadata": {},
     "output_type": "execute_result"
    }
   ],
   "source": [
    "corr_coe=round(st.pearsonr(no_commas,new_pop[\"Total Murders (2019)\"])[0],2)\n",
    "corr_coe"
   ]
  },
  {
   "cell_type": "code",
   "execution_count": 35,
   "metadata": {},
   "outputs": [
    {
     "data": {
      "text/html": [
       "<div>\n",
       "<style scoped>\n",
       "    .dataframe tbody tr th:only-of-type {\n",
       "        vertical-align: middle;\n",
       "    }\n",
       "\n",
       "    .dataframe tbody tr th {\n",
       "        vertical-align: top;\n",
       "    }\n",
       "\n",
       "    .dataframe thead th {\n",
       "        text-align: right;\n",
       "    }\n",
       "</style>\n",
       "<table border=\"1\" class=\"dataframe\">\n",
       "  <thead>\n",
       "    <tr style=\"text-align: right;\">\n",
       "      <th></th>\n",
       "      <th>Unnamed: 0_x</th>\n",
       "      <th>State</th>\n",
       "      <th>Median Income (2019)</th>\n",
       "      <th>2019 Population_x</th>\n",
       "      <th>Population (2019)</th>\n",
       "      <th>Total Murders (2019)_x</th>\n",
       "      <th>Unnamed: 0_y</th>\n",
       "      <th>Total Murders (2019)_y</th>\n",
       "      <th>2019 Population_y</th>\n",
       "      <th>Murders Per Capita/Homicide Rate</th>\n",
       "      <th>Unemployment Rate</th>\n",
       "    </tr>\n",
       "  </thead>\n",
       "  <tbody>\n",
       "    <tr>\n",
       "      <th>0</th>\n",
       "      <td>0</td>\n",
       "      <td>Alabama</td>\n",
       "      <td>56200</td>\n",
       "      <td>731545</td>\n",
       "      <td>731545</td>\n",
       "      <td>4</td>\n",
       "      <td>0</td>\n",
       "      <td>4.0</td>\n",
       "      <td>4903185.0</td>\n",
       "      <td>0.00000</td>\n",
       "      <td>2.7</td>\n",
       "    </tr>\n",
       "    <tr>\n",
       "      <th>1</th>\n",
       "      <td>1</td>\n",
       "      <td>Alaska</td>\n",
       "      <td>78394</td>\n",
       "      <td>7278717</td>\n",
       "      <td>7278717</td>\n",
       "      <td>69</td>\n",
       "      <td>1</td>\n",
       "      <td>69.0</td>\n",
       "      <td>731545.0</td>\n",
       "      <td>0.00009</td>\n",
       "      <td>6.0</td>\n",
       "    </tr>\n",
       "    <tr>\n",
       "      <th>2</th>\n",
       "      <td>2</td>\n",
       "      <td>Arizona</td>\n",
       "      <td>70674</td>\n",
       "      <td>3017804</td>\n",
       "      <td>3017804</td>\n",
       "      <td>337</td>\n",
       "      <td>2</td>\n",
       "      <td>337.0</td>\n",
       "      <td>7278717.0</td>\n",
       "      <td>0.00005</td>\n",
       "      <td>4.6</td>\n",
       "    </tr>\n",
       "    <tr>\n",
       "      <th>3</th>\n",
       "      <td>3</td>\n",
       "      <td>Arkansas</td>\n",
       "      <td>54539</td>\n",
       "      <td>39512223</td>\n",
       "      <td>39512223</td>\n",
       "      <td>231</td>\n",
       "      <td>3</td>\n",
       "      <td>231.0</td>\n",
       "      <td>3017804.0</td>\n",
       "      <td>0.00008</td>\n",
       "      <td>3.6</td>\n",
       "    </tr>\n",
       "    <tr>\n",
       "      <th>4</th>\n",
       "      <td>4</td>\n",
       "      <td>California</td>\n",
       "      <td>78105</td>\n",
       "      <td>5758736</td>\n",
       "      <td>5758736</td>\n",
       "      <td>1679</td>\n",
       "      <td>4</td>\n",
       "      <td>1679.0</td>\n",
       "      <td>39512223.0</td>\n",
       "      <td>0.00004</td>\n",
       "      <td>3.9</td>\n",
       "    </tr>\n",
       "  </tbody>\n",
       "</table>\n",
       "</div>"
      ],
      "text/plain": [
       "   Unnamed: 0_x       State  Median Income (2019)  2019 Population_x  \\\n",
       "0             0     Alabama                 56200             731545   \n",
       "1             1      Alaska                 78394            7278717   \n",
       "2             2     Arizona                 70674            3017804   \n",
       "3             3    Arkansas                 54539           39512223   \n",
       "4             4  California                 78105            5758736   \n",
       "\n",
       "   Population (2019)  Total Murders (2019)_x  Unnamed: 0_y  \\\n",
       "0             731545                       4             0   \n",
       "1            7278717                      69             1   \n",
       "2            3017804                     337             2   \n",
       "3           39512223                     231             3   \n",
       "4            5758736                    1679             4   \n",
       "\n",
       "   Total Murders (2019)_y  2019 Population_y  \\\n",
       "0                     4.0          4903185.0   \n",
       "1                    69.0           731545.0   \n",
       "2                   337.0          7278717.0   \n",
       "3                   231.0          3017804.0   \n",
       "4                  1679.0         39512223.0   \n",
       "\n",
       "   Murders Per Capita/Homicide Rate  Unemployment Rate  \n",
       "0                           0.00000                2.7  \n",
       "1                           0.00009                6.0  \n",
       "2                           0.00005                4.6  \n",
       "3                           0.00008                3.6  \n",
       "4                           0.00004                3.9  "
      ]
     },
     "execution_count": 35,
     "metadata": {},
     "output_type": "execute_result"
    }
   ],
   "source": [
    "unemp_clean_df = pd.merge(pop_2019_df, clean_bar_df, on=\"State\", how=\"left\")\n",
    "unemp_clean_df.head()"
   ]
  },
  {
   "cell_type": "code",
   "execution_count": 36,
   "metadata": {},
   "outputs": [
    {
     "data": {
      "text/html": [
       "<div>\n",
       "<style scoped>\n",
       "    .dataframe tbody tr th:only-of-type {\n",
       "        vertical-align: middle;\n",
       "    }\n",
       "\n",
       "    .dataframe tbody tr th {\n",
       "        vertical-align: top;\n",
       "    }\n",
       "\n",
       "    .dataframe thead th {\n",
       "        text-align: right;\n",
       "    }\n",
       "</style>\n",
       "<table border=\"1\" class=\"dataframe\">\n",
       "  <thead>\n",
       "    <tr style=\"text-align: right;\">\n",
       "      <th></th>\n",
       "      <th>Abbreviations</th>\n",
       "      <th>Median Income (2019)</th>\n",
       "      <th>Murders Per Capita/Homicide Rate</th>\n",
       "    </tr>\n",
       "  </thead>\n",
       "  <tbody>\n",
       "    <tr>\n",
       "      <th>0</th>\n",
       "      <td>AL</td>\n",
       "      <td>56200</td>\n",
       "      <td>0.00000</td>\n",
       "    </tr>\n",
       "    <tr>\n",
       "      <th>1</th>\n",
       "      <td>AK</td>\n",
       "      <td>78394</td>\n",
       "      <td>0.00009</td>\n",
       "    </tr>\n",
       "    <tr>\n",
       "      <th>2</th>\n",
       "      <td>AZ</td>\n",
       "      <td>70674</td>\n",
       "      <td>0.00005</td>\n",
       "    </tr>\n",
       "    <tr>\n",
       "      <th>3</th>\n",
       "      <td>AR</td>\n",
       "      <td>54539</td>\n",
       "      <td>0.00008</td>\n",
       "    </tr>\n",
       "    <tr>\n",
       "      <th>4</th>\n",
       "      <td>CA</td>\n",
       "      <td>78105</td>\n",
       "      <td>0.00004</td>\n",
       "    </tr>\n",
       "  </tbody>\n",
       "</table>\n",
       "</div>"
      ],
      "text/plain": [
       "  Abbreviations  Median Income (2019)  Murders Per Capita/Homicide Rate\n",
       "0            AL                 56200                           0.00000\n",
       "1            AK                 78394                           0.00009\n",
       "2            AZ                 70674                           0.00005\n",
       "3            AR                 54539                           0.00008\n",
       "4            CA                 78105                           0.00004"
      ]
     },
     "execution_count": 36,
     "metadata": {},
     "output_type": "execute_result"
    }
   ],
   "source": [
    "abbrev_list = ['AL','AK','AZ','AR','CA','CO','CT','DE','DC','FL','GA','HI',\n",
    "              'ID','IL','IN','IA','KS','KY','LA','ME','MD','MA','MI',\n",
    "              'MN','MS','MO','MT','NE','NV','NH','NJ','NM','NY','NC','ND',\n",
    "              'OH','OK','OR','PA','RI','SC','SD','TN','TX','UT','VT',\n",
    "              'VA','WA','WV','WI','WY']\n",
    "\n",
    "Mincome_df = unemp_clean_df\n",
    "Mincome_df['Abbreviations'] = abbrev_list\n",
    "new_Mincome_df= Mincome_df[['Abbreviations','Median Income (2019)','Murders Per Capita/Homicide Rate']]\n",
    "#unemploy_multibar_df['unemployment_rate'] = (unemploy_multibar_df['unemployment_rate']/100).map('{:.1%}'.format)\n",
    "new_Mincome_df.head()"
   ]
  },
  {
   "cell_type": "code",
   "execution_count": 38,
   "metadata": {},
   "outputs": [
    {
     "data": {
      "image/png": "[encoded data removed]",
      "text/plain": [
       "<Figure size 1440x360 with 2 Axes>"
      ]
     },
     "metadata": {
      "needs_background": "light"
     },
     "output_type": "display_data"
    },
    {
     "data": {
      "text/plain": [
       "<Figure size 432x288 with 0 Axes>"
      ]
     },
     "metadata": {},
     "output_type": "display_data"
    }
   ],
   "source": [
    "multi_plot = new_Mincome_df.plot(kind=\"bar\", secondary_y = ['Median Income (2019)'], figsize=(20,5))\n",
    "\n",
    "# PandasPlot.set_xticklabels() can be used to set the tick labels as well\n",
    "multi_plot.set_xticklabels(Mincome_df['Abbreviations'], rotation=50)\n",
    "#plt.yaxis.set_major_formatter(ticker.PercentFormatter(xmax)\n",
    "\n",
    "plt.show()\n",
    "plt.tight_layout()\n",
    "plt.savefig(\"Image Output/MedianIncome_bar.png\")"
   ]
  },
  {
   "cell_type": "code",
   "execution_count": null,
   "metadata": {},
   "outputs": [],
   "source": []
  }
 ],
 "metadata": {
  "kernelspec": {
   "display_name": "Python 3",
   "language": "python",
   "name": "python3"
  },
  "language_info": {
   "codemirror_mode": {
    "name": "ipython",
    "version": 3
   },
   "file_extension": ".py",
   "mimetype": "text/x-python",
   "name": "python",
   "nbconvert_exporter": "python",
   "pygments_lexer": "ipython3",
   "version": "3.8.5"
  }
 },
 "nbformat": 4,
 "nbformat_minor": 4
}
