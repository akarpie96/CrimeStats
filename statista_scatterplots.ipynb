{
 "cells": [
  {
   "cell_type": "code",
   "execution_count": 1,
   "metadata": {},
   "outputs": [],
   "source": [
    "#%matplotlib notebook\n",
    "\n",
    "# load dependencies\n",
    "import json\n",
    "import requests\n",
    "from matplotlib import pyplot as plt\n",
    "from scipy.stats import linregress\n",
    "from pprint import pprint\n",
    "import pandas as pd\n",
    "import scipy.stats as st"
   ]
  },
  {
   "cell_type": "code",
   "execution_count": 2,
   "metadata": {
    "scrolled": true
   },
   "outputs": [
    {
     "data": {
      "text/html": [
       "<div>\n",
       "<style scoped>\n",
       "    .dataframe tbody tr th:only-of-type {\n",
       "        vertical-align: middle;\n",
       "    }\n",
       "\n",
       "    .dataframe tbody tr th {\n",
       "        vertical-align: top;\n",
       "    }\n",
       "\n",
       "    .dataframe thead th {\n",
       "        text-align: right;\n",
       "    }\n",
       "</style>\n",
       "<table border=\"1\" class=\"dataframe\">\n",
       "  <thead>\n",
       "    <tr style=\"text-align: right;\">\n",
       "      <th></th>\n",
       "      <th>Index</th>\n",
       "      <th>State</th>\n",
       "      <th>Murder Count</th>\n",
       "      <th>Total Population</th>\n",
       "      <th>Homicide Rate</th>\n",
       "      <th>Unemployment Rate</th>\n",
       "      <th>Abbreviation</th>\n",
       "      <th>Average FICO Score</th>\n",
       "      <th>Median Home Value</th>\n",
       "      <th>Average Outstanding Mortgage Amount</th>\n",
       "      <th>Difference Between Value and Mortgage Balance</th>\n",
       "      <th></th>\n",
       "      <th>Unnamed: 0</th>\n",
       "      <th>Median Income (2019)</th>\n",
       "      <th>2019 Population</th>\n",
       "      <th>Population (2019)</th>\n",
       "      <th>Total Murders (2019)</th>\n",
       "    </tr>\n",
       "  </thead>\n",
       "  <tbody>\n",
       "    <tr>\n",
       "      <th>0</th>\n",
       "      <td>0</td>\n",
       "      <td>Alabama</td>\n",
       "      <td>358</td>\n",
       "      <td>4903185</td>\n",
       "      <td>73.013766</td>\n",
       "      <td>2.7</td>\n",
       "      <td>AL</td>\n",
       "      <td>680</td>\n",
       "      <td>134300</td>\n",
       "      <td>141302</td>\n",
       "      <td>-7002</td>\n",
       "      <td></td>\n",
       "      <td>0</td>\n",
       "      <td>56200</td>\n",
       "      <td>731545</td>\n",
       "      <td>731545</td>\n",
       "      <td>4</td>\n",
       "    </tr>\n",
       "    <tr>\n",
       "      <th>1</th>\n",
       "      <td>1</td>\n",
       "      <td>Alaska</td>\n",
       "      <td>69</td>\n",
       "      <td>731545</td>\n",
       "      <td>94.320924</td>\n",
       "      <td>6.0</td>\n",
       "      <td>AK</td>\n",
       "      <td>707</td>\n",
       "      <td>326000</td>\n",
       "      <td>223167</td>\n",
       "      <td>102833</td>\n",
       "      <td></td>\n",
       "      <td>1</td>\n",
       "      <td>78394</td>\n",
       "      <td>7278717</td>\n",
       "      <td>7278717</td>\n",
       "      <td>69</td>\n",
       "    </tr>\n",
       "    <tr>\n",
       "      <th>2</th>\n",
       "      <td>2</td>\n",
       "      <td>Arizona</td>\n",
       "      <td>365</td>\n",
       "      <td>7278717</td>\n",
       "      <td>50.146200</td>\n",
       "      <td>4.6</td>\n",
       "      <td>AZ</td>\n",
       "      <td>696</td>\n",
       "      <td>257600</td>\n",
       "      <td>202959</td>\n",
       "      <td>54641</td>\n",
       "      <td></td>\n",
       "      <td>2</td>\n",
       "      <td>70674</td>\n",
       "      <td>3017804</td>\n",
       "      <td>3017804</td>\n",
       "      <td>337</td>\n",
       "    </tr>\n",
       "    <tr>\n",
       "      <th>3</th>\n",
       "      <td>3</td>\n",
       "      <td>Arkansas</td>\n",
       "      <td>242</td>\n",
       "      <td>3017804</td>\n",
       "      <td>80.190761</td>\n",
       "      <td>3.6</td>\n",
       "      <td>AR</td>\n",
       "      <td>683</td>\n",
       "      <td>129500</td>\n",
       "      <td>129383</td>\n",
       "      <td>117</td>\n",
       "      <td></td>\n",
       "      <td>3</td>\n",
       "      <td>54539</td>\n",
       "      <td>39512223</td>\n",
       "      <td>39512223</td>\n",
       "      <td>231</td>\n",
       "    </tr>\n",
       "    <tr>\n",
       "      <th>4</th>\n",
       "      <td>4</td>\n",
       "      <td>California</td>\n",
       "      <td>1,690</td>\n",
       "      <td>39512223</td>\n",
       "      <td>42.771575</td>\n",
       "      <td>3.9</td>\n",
       "      <td>CA</td>\n",
       "      <td>708</td>\n",
       "      <td>550800</td>\n",
       "      <td>363891</td>\n",
       "      <td>186909</td>\n",
       "      <td></td>\n",
       "      <td>4</td>\n",
       "      <td>78105</td>\n",
       "      <td>5758736</td>\n",
       "      <td>5758736</td>\n",
       "      <td>1679</td>\n",
       "    </tr>\n",
       "  </tbody>\n",
       "</table>\n",
       "</div>"
      ],
      "text/plain": [
       "   Index       State Murder Count  Total Population  Homicide Rate  \\\n",
       "0      0     Alabama          358           4903185      73.013766   \n",
       "1      1      Alaska           69            731545      94.320924   \n",
       "2      2     Arizona          365           7278717      50.146200   \n",
       "3      3    Arkansas          242           3017804      80.190761   \n",
       "4      4  California        1,690          39512223      42.771575   \n",
       "\n",
       "   Unemployment Rate Abbreviation  Average FICO Score  Median Home Value  \\\n",
       "0                2.7           AL                 680             134300   \n",
       "1                6.0           AK                 707             326000   \n",
       "2                4.6           AZ                 696             257600   \n",
       "3                3.6           AR                 683             129500   \n",
       "4                3.9           CA                 708             550800   \n",
       "\n",
       "   Average Outstanding Mortgage Amount  \\\n",
       "0                               141302   \n",
       "1                               223167   \n",
       "2                               202959   \n",
       "3                               129383   \n",
       "4                               363891   \n",
       "\n",
       "   Difference Between Value and Mortgage Balance     Unnamed: 0  \\\n",
       "0                                          -7002              0   \n",
       "1                                         102833              1   \n",
       "2                                          54641              2   \n",
       "3                                            117              3   \n",
       "4                                         186909              4   \n",
       "\n",
       "   Median Income (2019)  2019 Population  Population (2019)  \\\n",
       "0                 56200           731545             731545   \n",
       "1                 78394          7278717            7278717   \n",
       "2                 70674          3017804            3017804   \n",
       "3                 54539         39512223           39512223   \n",
       "4                 78105          5758736            5758736   \n",
       "\n",
       "   Total Murders (2019)  \n",
       "0                     4  \n",
       "1                    69  \n",
       "2                   337  \n",
       "3                   231  \n",
       "4                  1679  "
      ]
     },
     "execution_count": 2,
     "metadata": {},
     "output_type": "execute_result"
    }
   ],
   "source": [
    "# read in files\n",
    "\n",
    "data = pd.read_csv('Clean_Data_Output/statista.csv')\n",
    "home_values = pd.read_csv('Resources/median_house_value.csv')\n",
    "income = pd.read_csv('Clean_Data_Output/Data.csv')\n",
    "\n",
    "# merge csv files\n",
    "property_df = pd.merge(data, home_values, on='State', how='outer')\n",
    "property_df = pd.merge(property_df, income, on='State', how='outer')\n",
    "\n",
    "# check the file has been read in\n",
    "property_df.head()"
   ]
  },
  {
   "cell_type": "code",
   "execution_count": 3,
   "metadata": {
    "scrolled": false
   },
   "outputs": [
    {
     "data": {
      "text/html": [
       "<div>\n",
       "<style scoped>\n",
       "    .dataframe tbody tr th:only-of-type {\n",
       "        vertical-align: middle;\n",
       "    }\n",
       "\n",
       "    .dataframe tbody tr th {\n",
       "        vertical-align: top;\n",
       "    }\n",
       "\n",
       "    .dataframe thead th {\n",
       "        text-align: right;\n",
       "    }\n",
       "</style>\n",
       "<table border=\"1\" class=\"dataframe\">\n",
       "  <thead>\n",
       "    <tr style=\"text-align: right;\">\n",
       "      <th></th>\n",
       "      <th>State</th>\n",
       "      <th>Total Population</th>\n",
       "      <th>Median Income</th>\n",
       "      <th>Median Home Value</th>\n",
       "      <th>Unemployment Rate</th>\n",
       "      <th>Total Murders</th>\n",
       "      <th>Homicide Rate</th>\n",
       "    </tr>\n",
       "  </thead>\n",
       "  <tbody>\n",
       "    <tr>\n",
       "      <th>8</th>\n",
       "      <td>District of Columbia</td>\n",
       "      <td>705749</td>\n",
       "      <td>93111</td>\n",
       "      <td>567800</td>\n",
       "      <td>5.3</td>\n",
       "      <td>166</td>\n",
       "      <td>235.211102</td>\n",
       "    </tr>\n",
       "    <tr>\n",
       "      <th>18</th>\n",
       "      <td>Louisiana</td>\n",
       "      <td>4648794</td>\n",
       "      <td>51707</td>\n",
       "      <td>147600</td>\n",
       "      <td>4.9</td>\n",
       "      <td>544</td>\n",
       "      <td>117.019597</td>\n",
       "    </tr>\n",
       "    <tr>\n",
       "      <th>24</th>\n",
       "      <td>Mississippi</td>\n",
       "      <td>2976149</td>\n",
       "      <td>44787</td>\n",
       "      <td>130200</td>\n",
       "      <td>5.7</td>\n",
       "      <td>332</td>\n",
       "      <td>111.553555</td>\n",
       "    </tr>\n",
       "    <tr>\n",
       "      <th>1</th>\n",
       "      <td>Alaska</td>\n",
       "      <td>731545</td>\n",
       "      <td>78394</td>\n",
       "      <td>326000</td>\n",
       "      <td>6.0</td>\n",
       "      <td>69</td>\n",
       "      <td>94.320924</td>\n",
       "    </tr>\n",
       "    <tr>\n",
       "      <th>25</th>\n",
       "      <td>Missouri</td>\n",
       "      <td>6137428</td>\n",
       "      <td>60597</td>\n",
       "      <td>163700</td>\n",
       "      <td>3.3</td>\n",
       "      <td>568</td>\n",
       "      <td>92.546911</td>\n",
       "    </tr>\n",
       "  </tbody>\n",
       "</table>\n",
       "</div>"
      ],
      "text/plain": [
       "                   State  Total Population  Median Income  Median Home Value  \\\n",
       "8   District of Columbia            705749          93111             567800   \n",
       "18             Louisiana           4648794          51707             147600   \n",
       "24           Mississippi           2976149          44787             130200   \n",
       "1                 Alaska            731545          78394             326000   \n",
       "25              Missouri           6137428          60597             163700   \n",
       "\n",
       "    Unemployment Rate Total Murders  Homicide Rate  \n",
       "8                 5.3           166     235.211102  \n",
       "18                4.9           544     117.019597  \n",
       "24                5.7           332     111.553555  \n",
       "1                 6.0            69      94.320924  \n",
       "25                3.3           568      92.546911  "
      ]
     },
     "execution_count": 3,
     "metadata": {},
     "output_type": "execute_result"
    }
   ],
   "source": [
    "# clean dataframe with only the relevant data\n",
    "data_df = property_df[['State', 'Total Population', 'Median Income (2019)', 'Median Home Value','Unemployment Rate',\n",
    "                        'Murder Count', 'Homicide Rate']]\n",
    "# rename columns\n",
    "data_df = data_df.rename(columns={'Median Income (2019)':'Median Income', 'Murder Count': 'Total Murders'})\n",
    "\n",
    "# sort values\n",
    "data_df = data_df.sort_values(by='Homicide Rate', ascending=False)\n",
    "\n",
    "# check df for errors\n",
    "data_df.head()"
   ]
  },
  {
   "cell_type": "code",
   "execution_count": 4,
   "metadata": {
    "scrolled": true
   },
   "outputs": [
    {
     "name": "stdout",
     "output_type": "stream",
     "text": [
      "The correlation coefficient between the two factors is -0.107\n",
      "The r-squared is: 0.01150581302224434\n"
     ]
    },
    {
     "data": {
      "image/png": "[encoded data removed]",
      "text/plain": [
       "<Figure size 432x288 with 1 Axes>"
      ]
     },
     "metadata": {
      "needs_background": "light"
     },
     "output_type": "display_data"
    }
   ],
   "source": [
    "# create scatter plot for median income and homicide rate with linregress\n",
    "\n",
    "# plot linregress\n",
    "x_values = data_df['Median Income']\n",
    "y_values = data_df['Homicide Rate']\n",
    "(slope, intercept, rvalue, pvalue, stderr) = linregress(x_values, y_values)\n",
    "regress_values = x_values * slope + intercept\n",
    "line_eq = \"y = \" + str(round(slope,2)) + \"x + \" + str(round(intercept,2))\n",
    "plt.scatter(x_values,y_values, color='green')\n",
    "plt.plot(x_values,regress_values,\"r-\")\n",
    "#plt.annotate(line_eq,(500000,1300),fontsize=15,color=\"red\")\n",
    "plt.xlabel('Median Income')\n",
    "plt.ylabel('Homicide Rate %')\n",
    "plt.title('Median Income vs Homicide Rate')\n",
    "\n",
    "# print r-valaue and correlation\n",
    "corr = st.pearsonr(x_values,y_values)\n",
    "\n",
    "print(f\"The correlation coefficient between the two factors is {round( (corr[0]),3)}\")\n",
    "print(f\"The r-squared is: {rvalue**2}\")\n",
    "\n",
    "# show plot\n",
    "plt.show()\n",
    "\n",
    "# save fig as output\n",
    "#plt.savefig('Image Output/median_income_st')"
   ]
  },
  {
   "cell_type": "code",
   "execution_count": 5,
   "metadata": {
    "scrolled": true
   },
   "outputs": [
    {
     "name": "stdout",
     "output_type": "stream",
     "text": [
      "The correlation coefficient between the two factors is 0.067\n",
      "The r-squared is: 0.004462202076839075\n"
     ]
    },
    {
     "data": {
      "image/png": "[encoded data removed]",
      "text/plain": [
       "<Figure size 432x288 with 1 Axes>"
      ]
     },
     "metadata": {
      "needs_background": "light"
     },
     "output_type": "display_data"
    }
   ],
   "source": [
    "# create scatter plot for median home value and homicide rate with linregress\n",
    "\n",
    "# plot linregress\n",
    "x_values = data_df['Median Home Value']\n",
    "y_values = data_df['Homicide Rate']\n",
    "(slope, intercept, rvalue, pvalue, stderr) = linregress(x_values, y_values)\n",
    "regress_values = x_values * slope + intercept\n",
    "line_eq = \"y = \" + str(round(slope,2)) + \"x + \" + str(round(intercept,2))\n",
    "plt.scatter(x_values,y_values, color='blue')\n",
    "plt.plot(x_values,regress_values,\"r-\")\n",
    "#plt.annotate(line_eq,(500000,1300),fontsize=15,color=\"red\")\n",
    "plt.xlabel('Median Home Value')\n",
    "plt.ylabel('Homicide Rate %')\n",
    "plt.title('Median Home Value vs Homicide Rate')\n",
    "\n",
    "# print r-valaue and correlation\n",
    "corr = st.pearsonr(x_values,y_values)\n",
    "\n",
    "print(f\"The correlation coefficient between the two factors is {round( (corr[0]),3)}\")\n",
    "print(f\"The r-squared is: {rvalue**2}\")\n",
    "\n",
    "# show plot\n",
    "plt.show()\n",
    "\n",
    "# save fig as output\n",
    "#plt.savefig('Image Output/home_value_st')"
   ]
  },
  {
   "cell_type": "code",
   "execution_count": 6,
   "metadata": {},
   "outputs": [
    {
     "name": "stdout",
     "output_type": "stream",
     "text": [
      "The correlation coefficient between the two factors is 0.525\n",
      "The r-squared is: 0.27534079235024694\n"
     ]
    },
    {
     "data": {
      "image/png": "[encoded data removed]",
      "text/plain": [
       "<Figure size 432x288 with 1 Axes>"
      ]
     },
     "metadata": {
      "needs_background": "light"
     },
     "output_type": "display_data"
    }
   ],
   "source": [
    "# create scatter plot for unemployment rate and homicide rate\n",
    "\n",
    "# plot linregress\n",
    "x_values = data_df['Unemployment Rate']\n",
    "y_values = data_df['Homicide Rate']\n",
    "(slope, intercept, rvalue, pvalue, stderr) = linregress(x_values, y_values)\n",
    "regress_values = x_values * slope + intercept\n",
    "line_eq = \"y = \" + str(round(slope,2)) + \"x + \" + str(round(intercept,2))\n",
    "plt.scatter(x_values,y_values, color='orange')\n",
    "plt.plot(x_values,regress_values,\"r-\")\n",
    "#plt.annotate(line_eq,(500000,1300),fontsize=15,color=\"red\")\n",
    "plt.xlabel('Unemployment Rate')\n",
    "plt.ylabel('Homicide Rate %')\n",
    "plt.title('Unemployment Rate vs Homicide Rate')\n",
    "\n",
    "# print r-valaue and show plot\n",
    "unemployment = data_df['Unemployment Rate']\n",
    "homicide_rate = data_df['Homicide Rate']\n",
    "corr = st.pearsonr(unemployment, homicide_rate)\n",
    "\n",
    "print(f\"The correlation coefficient between the two factors is {round( (corr[0]),3)}\")\n",
    "print(f\"The r-squared is: {rvalue**2}\")\n",
    "plt.show()\n",
    "\n",
    "# save fig as output\n",
    "#plt.savefig('Image Output/unemployment_st')"
   ]
  },
  {
   "cell_type": "code",
   "execution_count": 9,
   "metadata": {
    "scrolled": false
   },
   "outputs": [
    {
     "data": {
      "text/html": [
       "<div>\n",
       "<style scoped>\n",
       "    .dataframe tbody tr th:only-of-type {\n",
       "        vertical-align: middle;\n",
       "    }\n",
       "\n",
       "    .dataframe tbody tr th {\n",
       "        vertical-align: top;\n",
       "    }\n",
       "\n",
       "    .dataframe thead th {\n",
       "        text-align: right;\n",
       "    }\n",
       "</style>\n",
       "<table border=\"1\" class=\"dataframe\">\n",
       "  <thead>\n",
       "    <tr style=\"text-align: right;\">\n",
       "      <th></th>\n",
       "      <th>Total Population</th>\n",
       "      <th>Median Income</th>\n",
       "      <th>Median Home Value</th>\n",
       "      <th>Unemployment Rate</th>\n",
       "      <th>Homicide Rate</th>\n",
       "    </tr>\n",
       "  </thead>\n",
       "  <tbody>\n",
       "    <tr>\n",
       "      <th>Total Population</th>\n",
       "      <td>1.000000</td>\n",
       "      <td>0.011151</td>\n",
       "      <td>0.169137</td>\n",
       "      <td>0.042558</td>\n",
       "      <td>-0.034306</td>\n",
       "    </tr>\n",
       "    <tr>\n",
       "      <th>Median Income</th>\n",
       "      <td>0.011151</td>\n",
       "      <td>1.000000</td>\n",
       "      <td>0.702282</td>\n",
       "      <td>-0.192988</td>\n",
       "      <td>-0.107265</td>\n",
       "    </tr>\n",
       "    <tr>\n",
       "      <th>Median Home Value</th>\n",
       "      <td>0.169137</td>\n",
       "      <td>0.702282</td>\n",
       "      <td>1.000000</td>\n",
       "      <td>-0.024518</td>\n",
       "      <td>0.066800</td>\n",
       "    </tr>\n",
       "    <tr>\n",
       "      <th>Unemployment Rate</th>\n",
       "      <td>0.042558</td>\n",
       "      <td>-0.192988</td>\n",
       "      <td>-0.024518</td>\n",
       "      <td>1.000000</td>\n",
       "      <td>0.524729</td>\n",
       "    </tr>\n",
       "    <tr>\n",
       "      <th>Homicide Rate</th>\n",
       "      <td>-0.034306</td>\n",
       "      <td>-0.107265</td>\n",
       "      <td>0.066800</td>\n",
       "      <td>0.524729</td>\n",
       "      <td>1.000000</td>\n",
       "    </tr>\n",
       "  </tbody>\n",
       "</table>\n",
       "</div>"
      ],
      "text/plain": [
       "                   Total Population  Median Income  Median Home Value  \\\n",
       "Total Population           1.000000       0.011151           0.169137   \n",
       "Median Income              0.011151       1.000000           0.702282   \n",
       "Median Home Value          0.169137       0.702282           1.000000   \n",
       "Unemployment Rate          0.042558      -0.192988          -0.024518   \n",
       "Homicide Rate             -0.034306      -0.107265           0.066800   \n",
       "\n",
       "                   Unemployment Rate  Homicide Rate  \n",
       "Total Population            0.042558      -0.034306  \n",
       "Median Income              -0.192988      -0.107265  \n",
       "Median Home Value          -0.024518       0.066800  \n",
       "Unemployment Rate           1.000000       0.524729  \n",
       "Homicide Rate               0.524729       1.000000  "
      ]
     },
     "execution_count": 9,
     "metadata": {},
     "output_type": "execute_result"
    }
   ],
   "source": [
    "# BONUS: Generate the correlation matrix and find the strongest positive and negative correlations\n",
    "\n",
    "homicide_corr = data_df.corr()\n",
    "homicide_corr.unstack().sort_values()\n",
    "\n",
    "homicide_corr"
   ]
  },
  {
   "cell_type": "code",
   "execution_count": 8,
   "metadata": {},
   "outputs": [
    {
     "data": {
      "image/png": "[encoded data removed]",
      "text/plain": [
       "<Figure size 288x288 with 1 Axes>"
      ]
     },
     "metadata": {
      "needs_background": "light"
     },
     "output_type": "display_data"
    }
   ],
   "source": [
    "# correlation map for fun\n",
    "\n",
    "plt.matshow(data_df.corr())\n",
    "plt.show()"
   ]
  },
  {
   "cell_type": "code",
   "execution_count": null,
   "metadata": {},
   "outputs": [],
   "source": []
  }
 ],
 "metadata": {
  "kernelspec": {
   "display_name": "Python 3",
   "language": "python",
   "name": "python3"
  },
  "language_info": {
   "codemirror_mode": {
    "name": "ipython",
    "version": 3
   },
   "file_extension": ".py",
   "mimetype": "text/x-python",
   "name": "python",
   "nbconvert_exporter": "python",
   "pygments_lexer": "ipython3",
   "version": "3.8.5"
  }
 },
 "nbformat": 4,
 "nbformat_minor": 4
}
